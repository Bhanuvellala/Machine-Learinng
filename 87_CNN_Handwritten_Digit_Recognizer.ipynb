{
  "nbformat": 4,
  "nbformat_minor": 5,
  "metadata": {
    "kernelspec": {
      "display_name": "Python 3",
      "language": "python",
      "name": "python3"
    },
    "language_info": {
      "codemirror_mode": {
        "name": "ipython",
        "version": 3
      },
      "file_extension": ".py",
      "mimetype": "text/x-python",
      "name": "python",
      "nbconvert_exporter": "python",
      "pygments_lexer": "ipython3",
      "version": "3.9.5"
    },
    "colab": {
      "provenance": []
    }
  },
  "cells": [
    {
      "cell_type": "markdown",
      "metadata": {
        "id": "aa1327dc"
      },
      "source": [
        "## Handwritten Digit Recognizer using Deep Learning:"
      ],
      "id": "aa1327dc"
    },
    {
      "cell_type": "markdown",
      "metadata": {
        "id": "9df514ec"
      },
      "source": [
        "In this project, we will try to identify hand written digits by using the power of deep learning.\n",
        "We will be working on the MNIST dataset to create a deep learning classification model & see how our model performs in acurately predicting images with the correct digit notation.\n",
        "\n",
        "MNIST is a database of handwritten digits made up of a training set of 60,000 examples, and a test set of 10,000 examples. The training examples are annotated by humans with the correct answer. For instance, if the handwritten digit is the number \"3\", then 3 is simply the label associated with that example.\n",
        "\n",
        "We will train our model with the samples available in the training set, and then use the test set to evaluate how well our neural network has learned to recognize digits.\n",
        "\n",
        "Let's create a Convolutional Neural Network to solve this problem."
      ],
      "id": "9df514ec"
    },
    {
      "cell_type": "markdown",
      "metadata": {
        "id": "9c941e05"
      },
      "source": [
        "### Import Libraries:"
      ],
      "id": "9c941e05"
    },
    {
      "cell_type": "code",
      "metadata": {
        "id": "72591af5"
      },
      "source": [
        "import numpy as np\n",
        "import pandas as pd\n",
        "import seaborn as sns\n",
        "import matplotlib.pyplot as plt\n",
        "\n",
        "import tensorflow as tf\n",
        "from tensorflow.keras.models import Sequential\n",
        "from tensorflow.keras.layers import Conv2D, MaxPool2D, Flatten, Dense, Dropout\n",
        "from tensorflow.keras.callbacks import EarlyStopping\n",
        "from tensorflow.keras.utils import to_categorical\n",
        "\n",
        "from sklearn.metrics import classification_report, confusion_matrix, accuracy_score, precision_score, recall_score\n",
        "\n",
        "%matplotlib inline"
      ],
      "id": "72591af5",
      "execution_count": null,
      "outputs": []
    },
    {
      "cell_type": "code",
      "metadata": {
        "colab": {
          "base_uri": "https://localhost:8080/",
          "height": 35
        },
        "id": "c9c51c2b",
        "outputId": "0c58a8f8-1899-4550-b266-422a36c4b359"
      },
      "source": [
        "tf.__version__"
      ],
      "id": "c9c51c2b",
      "execution_count": null,
      "outputs": [
        {
          "output_type": "execute_result",
          "data": {
            "application/vnd.google.colaboratory.intrinsic+json": {
              "type": "string"
            },
            "text/plain": [
              "'2.6.0'"
            ]
          },
          "metadata": {},
          "execution_count": 2
        }
      ]
    },
    {
      "cell_type": "markdown",
      "metadata": {
        "id": "18244700"
      },
      "source": [
        "### Import MNIST Dataset:"
      ],
      "id": "18244700"
    },
    {
      "cell_type": "code",
      "metadata": {
        "id": "598ba3df"
      },
      "source": [
        "from tensorflow.keras.datasets import mnist"
      ],
      "id": "598ba3df",
      "execution_count": null,
      "outputs": []
    },
    {
      "cell_type": "code",
      "metadata": {
        "colab": {
          "base_uri": "https://localhost:8080/"
        },
        "id": "e7009720",
        "outputId": "bb01637d-e29b-456b-e463-6d521dac8945"
      },
      "source": [
        "(X_train, y_train), (X_test, y_test) = mnist.load_data()"
      ],
      "id": "e7009720",
      "execution_count": null,
      "outputs": [
        {
          "output_type": "stream",
          "name": "stdout",
          "text": [
            "Downloading data from https://storage.googleapis.com/tensorflow/tf-keras-datasets/mnist.npz\n",
            "11493376/11490434 [==============================] - 0s 0us/step\n",
            "11501568/11490434 [==============================] - 0s 0us/step\n"
          ]
        }
      ]
    },
    {
      "cell_type": "code",
      "metadata": {
        "colab": {
          "base_uri": "https://localhost:8080/"
        },
        "id": "366388d2",
        "outputId": "13f956a8-7ab0-4802-991a-47ae0d1e37ef"
      },
      "source": [
        "print(\"Shape of X_train : \", X_train.shape)\n",
        "print(\"Shape of X_test : \", X_test.shape)\n",
        "print(\"Shape of y_train : \", y_train.shape)\n",
        "print(\"Shape of y_test : \", y_test.shape)"
      ],
      "id": "366388d2",
      "execution_count": null,
      "outputs": [
        {
          "output_type": "stream",
          "name": "stdout",
          "text": [
            "Shape of X_train :  (60000, 28, 28)\n",
            "Shape of X_test :  (10000, 28, 28)\n",
            "Shape of y_train :  (60000,)\n",
            "Shape of y_test :  (10000,)\n"
          ]
        }
      ]
    },
    {
      "cell_type": "markdown",
      "metadata": {
        "id": "e62ea336"
      },
      "source": [
        "#### Each MNIST image is in grayscale and consists of 28*28 pixels."
      ],
      "id": "e62ea336"
    },
    {
      "cell_type": "code",
      "metadata": {
        "colab": {
          "base_uri": "https://localhost:8080/",
          "height": 302
        },
        "id": "9e7c0459",
        "outputId": "8826aeca-2085-4743-d4da-19cd67f42e47"
      },
      "source": [
        "from PIL import Image\n",
        "Image.open('mnist.png')"
      ],
      "id": "9e7c0459",
      "execution_count": null,
      "outputs": [
        {
          "output_type": "error",
          "ename": "FileNotFoundError",
          "evalue": "ignored",
          "traceback": [
            "\u001b[0;31m---------------------------------------------------------------------------\u001b[0m",
            "\u001b[0;31mFileNotFoundError\u001b[0m                         Traceback (most recent call last)",
            "\u001b[0;32m<ipython-input-6-a1ba516e4d78>\u001b[0m in \u001b[0;36m<module>\u001b[0;34m()\u001b[0m\n\u001b[1;32m      1\u001b[0m \u001b[0;32mfrom\u001b[0m \u001b[0mPIL\u001b[0m \u001b[0;32mimport\u001b[0m \u001b[0mImage\u001b[0m\u001b[0;34m\u001b[0m\u001b[0;34m\u001b[0m\u001b[0m\n\u001b[0;32m----> 2\u001b[0;31m \u001b[0mImage\u001b[0m\u001b[0;34m.\u001b[0m\u001b[0mopen\u001b[0m\u001b[0;34m(\u001b[0m\u001b[0;34m'mnist.png'\u001b[0m\u001b[0;34m)\u001b[0m\u001b[0;34m\u001b[0m\u001b[0;34m\u001b[0m\u001b[0m\n\u001b[0m",
            "\u001b[0;32m/usr/local/lib/python3.7/dist-packages/PIL/Image.py\u001b[0m in \u001b[0;36mopen\u001b[0;34m(fp, mode)\u001b[0m\n\u001b[1;32m   2841\u001b[0m \u001b[0;34m\u001b[0m\u001b[0m\n\u001b[1;32m   2842\u001b[0m     \u001b[0;32mif\u001b[0m \u001b[0mfilename\u001b[0m\u001b[0;34m:\u001b[0m\u001b[0;34m\u001b[0m\u001b[0;34m\u001b[0m\u001b[0m\n\u001b[0;32m-> 2843\u001b[0;31m         \u001b[0mfp\u001b[0m \u001b[0;34m=\u001b[0m \u001b[0mbuiltins\u001b[0m\u001b[0;34m.\u001b[0m\u001b[0mopen\u001b[0m\u001b[0;34m(\u001b[0m\u001b[0mfilename\u001b[0m\u001b[0;34m,\u001b[0m \u001b[0;34m\"rb\"\u001b[0m\u001b[0;34m)\u001b[0m\u001b[0;34m\u001b[0m\u001b[0;34m\u001b[0m\u001b[0m\n\u001b[0m\u001b[1;32m   2844\u001b[0m         \u001b[0mexclusive_fp\u001b[0m \u001b[0;34m=\u001b[0m \u001b[0;32mTrue\u001b[0m\u001b[0;34m\u001b[0m\u001b[0;34m\u001b[0m\u001b[0m\n\u001b[1;32m   2845\u001b[0m \u001b[0;34m\u001b[0m\u001b[0m\n",
            "\u001b[0;31mFileNotFoundError\u001b[0m: [Errno 2] No such file or directory: 'mnist.png'"
          ]
        }
      ]
    },
    {
      "cell_type": "markdown",
      "metadata": {
        "id": "ff61ec4e"
      },
      "source": [
        "### Load Sample images from the MNIST dataset:"
      ],
      "id": "ff61ec4e"
    },
    {
      "cell_type": "code",
      "metadata": {
        "id": "7548db06",
        "outputId": "54f7baad-301e-4af9-db6b-b37a5fe87ded"
      },
      "source": [
        "plt.figure(figsize=(20,20))\n",
        "\n",
        "plt.subplot(1,10,1)\n",
        "plt.imshow(X_train[0])\n",
        "plt.subplot(1,10,2)\n",
        "plt.imshow(X_train[1])\n",
        "plt.subplot(1,10,3)\n",
        "plt.imshow(X_train[2])\n",
        "plt.subplot(1,10,4)\n",
        "plt.imshow(X_train[3])\n",
        "plt.subplot(1,10,5)\n",
        "plt.imshow(X_train[4])\n",
        "plt.subplot(1,10,6)\n",
        "plt.imshow(X_train[5])\n",
        "plt.subplot(1,10,7)\n",
        "plt.imshow(X_train[6])\n",
        "plt.subplot(1,10,8)\n",
        "plt.imshow(X_train[7])\n",
        "plt.subplot(1,10,9)\n",
        "plt.imshow(X_train[8])\n",
        "plt.subplot(1,10,10)\n",
        "plt.imshow(X_train[9])"
      ],
      "id": "7548db06",
      "execution_count": null,
      "outputs": [
        {
          "data": {
            "text/plain": [
              "<matplotlib.image.AxesImage at 0x20b561cb8b0>"
            ]
          },
          "execution_count": 7,
          "metadata": {},
          "output_type": "execute_result"
        },
        {
          "data": {
            "image/png": "[encoded data removed]",
            "text/plain": [
              "<Figure size 1440x1440 with 10 Axes>"
            ]
          },
          "metadata": {
            "needs_background": "light"
          },
          "output_type": "display_data"
        }
      ]
    },
    {
      "cell_type": "code",
      "metadata": {
        "id": "7909d73e",
        "outputId": "214f9496-40d7-452e-ec5d-b42ff178aa99"
      },
      "source": [
        "plt.figure(figsize=(20,20))\n",
        "\n",
        "plt.subplot(1,10,1)\n",
        "plt.imshow(X_train[150])\n",
        "plt.subplot(1,10,2)\n",
        "plt.imshow(X_train[162])\n",
        "plt.subplot(1,10,3)\n",
        "plt.imshow(X_train[178])\n",
        "plt.subplot(1,10,4)\n",
        "plt.imshow(X_train[193])\n",
        "plt.subplot(1,10,5)\n",
        "plt.imshow(X_train[205])\n",
        "plt.subplot(1,10,6)\n",
        "plt.imshow(X_train[3978])\n",
        "plt.subplot(1,10,7)\n",
        "plt.imshow(X_train[456])\n",
        "plt.subplot(1,10,8)\n",
        "plt.imshow(X_train[7896])\n",
        "plt.subplot(1,10,9)\n",
        "plt.imshow(X_train[57])\n",
        "plt.subplot(1,10,10)\n",
        "plt.imshow(X_train[31897])"
      ],
      "id": "7909d73e",
      "execution_count": null,
      "outputs": [
        {
          "data": {
            "text/plain": [
              "<matplotlib.image.AxesImage at 0x20b564001c0>"
            ]
          },
          "execution_count": 8,
          "metadata": {},
          "output_type": "execute_result"
        },
        {
          "data": {
            "image/png": "[encoded data removed]",
            "text/plain": [
              "<Figure size 1440x1440 with 10 Axes>"
            ]
          },
          "metadata": {
            "needs_background": "light"
          },
          "output_type": "display_data"
        }
      ]
    },
    {
      "cell_type": "markdown",
      "metadata": {
        "id": "5fe15bec"
      },
      "source": [
        "### Data Preprocessing:"
      ],
      "id": "5fe15bec"
    },
    {
      "cell_type": "markdown",
      "metadata": {
        "id": "238b5575"
      },
      "source": [
        "The image data cannot be fed directly into the model.\n",
        "So we need to perform some operations and process the data to make it ready for our neural network.\n",
        "The dimension of the training data is (60000,28,28).\n",
        "The CNN model will require one more dimension so we reshape the matrix to shape (60000,28,28,1).\n",
        "This extra dimension is for the color channel, for grayscale images like MNIST, its value is 1.\n",
        "For color images, the channel value is 3 corresponding to Red, Green & Blue (RGB)."
      ],
      "id": "238b5575"
    },
    {
      "cell_type": "code",
      "metadata": {
        "colab": {
          "base_uri": "https://localhost:8080/"
        },
        "id": "f64425da",
        "outputId": "baa4fcfc-bb94-40fc-f45b-4486a1c7606b"
      },
      "source": [
        "print(\"Shape of X_train : \", X_train.shape)\n",
        "print(\"Shape of X_test : \", X_test.shape)"
      ],
      "id": "f64425da",
      "execution_count": null,
      "outputs": [
        {
          "output_type": "stream",
          "name": "stdout",
          "text": [
            "Shape of X_train :  (60000, 28, 28)\n",
            "Shape of X_test :  (10000, 28, 28)\n"
          ]
        }
      ]
    },
    {
      "cell_type": "code",
      "metadata": {
        "colab": {
          "base_uri": "https://localhost:8080/"
        },
        "id": "28dbfc15",
        "outputId": "cf2ef910-b7f8-40e7-909e-9a4db23604b5"
      },
      "source": [
        "X_train = X_train.reshape(X_train.shape[0], 28, 28, 1)\n",
        "X_test = X_test.reshape(X_test.shape[0], 28, 28, 1)\n",
        "\n",
        "input_shape = (28,28,1)\n",
        "\n",
        "print(\"Shape of X_train : \", X_train.shape)\n",
        "print(\"Shape of X_test : \", X_test.shape)"
      ],
      "id": "28dbfc15",
      "execution_count": null,
      "outputs": [
        {
          "output_type": "stream",
          "name": "stdout",
          "text": [
            "Shape of X_train :  (60000, 28, 28, 1)\n",
            "Shape of X_test :  (10000, 28, 28, 1)\n"
          ]
        }
      ]
    },
    {
      "cell_type": "markdown",
      "metadata": {
        "id": "15d0ca1c"
      },
      "source": [
        "### One Hot Encoding of target labels:"
      ],
      "id": "15d0ca1c"
    },
    {
      "cell_type": "markdown",
      "metadata": {
        "id": "5c174d8a"
      },
      "source": [
        "We are going to use OHE as a simple tool to encode information used inside neural networks.\n",
        "In many applications it is convenient to transform categorical (non-numerical) features into numerical variables. For instance, the categorical feature \"digit\" with value d in [0 – 9] can be encoded into a binary vector with 10 positions, which always has 0 value except the d - th position where a 1 is present.\n",
        "\n",
        "For example, the digit 3 can be encoded as [0, 0, 0, 1, 0, 0, 0, 0, 0, 0]. This type of representation is called One-hot encoding, or sometimes simply one-hot, and is very common in data mining when the learning algorithm is specialized in dealing with numerical functions."
      ],
      "id": "5c174d8a"
    },
    {
      "cell_type": "code",
      "metadata": {
        "colab": {
          "base_uri": "https://localhost:8080/"
        },
        "id": "2aa77f6f",
        "outputId": "35a5fd40-f8a8-48d2-80fc-5d4b676a7d96"
      },
      "source": [
        "y_train[0:11]"
      ],
      "id": "2aa77f6f",
      "execution_count": null,
      "outputs": [
        {
          "output_type": "execute_result",
          "data": {
            "text/plain": [
              "array([5, 0, 4, 1, 9, 2, 1, 3, 1, 4, 3], dtype=uint8)"
            ]
          },
          "metadata": {},
          "execution_count": 10
        }
      ]
    },
    {
      "cell_type": "code",
      "metadata": {
        "colab": {
          "base_uri": "https://localhost:8080/"
        },
        "id": "828a0eb7",
        "outputId": "f1e0ac54-0caa-4512-96ad-2410b1fdf982"
      },
      "source": [
        "y_cat_train = to_categorical(y_train, 10)\n",
        "y_cat_test = to_categorical(y_test, 10)\n",
        "\n",
        "y_cat_train[0:11]"
      ],
      "id": "828a0eb7",
      "execution_count": null,
      "outputs": [
        {
          "output_type": "execute_result",
          "data": {
            "text/plain": [
              "array([[0., 0., 0., 0., 0., 1., 0., 0., 0., 0.],\n",
              "       [1., 0., 0., 0., 0., 0., 0., 0., 0., 0.],\n",
              "       [0., 0., 0., 0., 1., 0., 0., 0., 0., 0.],\n",
              "       [0., 1., 0., 0., 0., 0., 0., 0., 0., 0.],\n",
              "       [0., 0., 0., 0., 0., 0., 0., 0., 0., 1.],\n",
              "       [0., 0., 1., 0., 0., 0., 0., 0., 0., 0.],\n",
              "       [0., 1., 0., 0., 0., 0., 0., 0., 0., 0.],\n",
              "       [0., 0., 0., 1., 0., 0., 0., 0., 0., 0.],\n",
              "       [0., 1., 0., 0., 0., 0., 0., 0., 0., 0.],\n",
              "       [0., 0., 0., 0., 1., 0., 0., 0., 0., 0.],\n",
              "       [0., 0., 0., 1., 0., 0., 0., 0., 0., 0.]], dtype=float32)"
            ]
          },
          "metadata": {},
          "execution_count": 11
        }
      ]
    },
    {
      "cell_type": "markdown",
      "metadata": {
        "id": "9837e668"
      },
      "source": [
        "### Scaling feature data:"
      ],
      "id": "9837e668"
    },
    {
      "cell_type": "markdown",
      "metadata": {
        "id": "f52bf29d"
      },
      "source": [
        "Neural Networks work well when the feature values lie between 0 to 1.\n",
        "Hence we will scale the dataset by simply dividing each value by 255.\n",
        "The values for each pixel in case of gray scale images range from 0 (white) to 255 (black)."
      ],
      "id": "f52bf29d"
    },
    {
      "cell_type": "code",
      "metadata": {
        "colab": {
          "base_uri": "https://localhost:8080/"
        },
        "id": "fd16b6c6",
        "outputId": "417b2b30-a7aa-43a0-d167-04bbda98c041"
      },
      "source": [
        "X_train[0]"
      ],
      "id": "fd16b6c6",
      "execution_count": null,
      "outputs": [
        {
          "output_type": "execute_result",
          "data": {
            "text/plain": [
              "array([[[0.        ],\n",
              "        [0.        ],\n",
              "        [0.        ],\n",
              "        [0.        ],\n",
              "        [0.        ],\n",
              "        [0.        ],\n",
              "        [0.        ],\n",
              "        [0.        ],\n",
              "        [0.        ],\n",
              "        [0.        ],\n",
              "        [0.        ],\n",
              "        [0.        ],\n",
              "        [0.        ],\n",
              "        [0.        ],\n",
              "        [0.        ],\n",
              "        [0.        ],\n",
              "        [0.        ],\n",
              "        [0.        ],\n",
              "        [0.        ],\n",
              "        [0.        ],\n",
              "        [0.        ],\n",
              "        [0.        ],\n",
              "        [0.        ],\n",
              "        [0.        ],\n",
              "        [0.        ],\n",
              "        [0.        ],\n",
              "        [0.        ],\n",
              "        [0.        ]],\n",
              "\n",
              "       [[0.        ],\n",
              "        [0.        ],\n",
              "        [0.        ],\n",
              "        [0.        ],\n",
              "        [0.        ],\n",
              "        [0.        ],\n",
              "        [0.        ],\n",
              "        [0.        ],\n",
              "        [0.        ],\n",
              "        [0.        ],\n",
              "        [0.        ],\n",
              "        [0.        ],\n",
              "        [0.        ],\n",
              "        [0.        ],\n",
              "        [0.        ],\n",
              "        [0.        ],\n",
              "        [0.        ],\n",
              "        [0.        ],\n",
              "        [0.        ],\n",
              "        [0.        ],\n",
              "        [0.        ],\n",
              "        [0.        ],\n",
              "        [0.        ],\n",
              "        [0.        ],\n",
              "        [0.        ],\n",
              "        [0.        ],\n",
              "        [0.        ],\n",
              "        [0.        ]],\n",
              "\n",
              "       [[0.        ],\n",
              "        [0.        ],\n",
              "        [0.        ],\n",
              "        [0.        ],\n",
              "        [0.        ],\n",
              "        [0.        ],\n",
              "        [0.        ],\n",
              "        [0.        ],\n",
              "        [0.        ],\n",
              "        [0.        ],\n",
              "        [0.        ],\n",
              "        [0.        ],\n",
              "        [0.        ],\n",
              "        [0.        ],\n",
              "        [0.        ],\n",
              "        [0.        ],\n",
              "        [0.        ],\n",
              "        [0.        ],\n",
              "        [0.        ],\n",
              "        [0.        ],\n",
              "        [0.        ],\n",
              "        [0.        ],\n",
              "        [0.        ],\n",
              "        [0.        ],\n",
              "        [0.        ],\n",
              "        [0.        ],\n",
              "        [0.        ],\n",
              "        [0.        ]],\n",
              "\n",
              "       [[0.        ],\n",
              "        [0.        ],\n",
              "        [0.        ],\n",
              "        [0.        ],\n",
              "        [0.        ],\n",
              "        [0.        ],\n",
              "        [0.        ],\n",
              "        [0.        ],\n",
              "        [0.        ],\n",
              "        [0.        ],\n",
              "        [0.        ],\n",
              "        [0.        ],\n",
              "        [0.        ],\n",
              "        [0.        ],\n",
              "        [0.        ],\n",
              "        [0.        ],\n",
              "        [0.        ],\n",
              "        [0.        ],\n",
              "        [0.        ],\n",
              "        [0.        ],\n",
              "        [0.        ],\n",
              "        [0.        ],\n",
              "        [0.        ],\n",
              "        [0.        ],\n",
              "        [0.        ],\n",
              "        [0.        ],\n",
              "        [0.        ],\n",
              "        [0.        ]],\n",
              "\n",
              "       [[0.        ],\n",
              "        [0.        ],\n",
              "        [0.        ],\n",
              "        [0.        ],\n",
              "        [0.        ],\n",
              "        [0.        ],\n",
              "        [0.        ],\n",
              "        [0.        ],\n",
              "        [0.        ],\n",
              "        [0.        ],\n",
              "        [0.        ],\n",
              "        [0.        ],\n",
              "        [0.        ],\n",
              "        [0.        ],\n",
              "        [0.        ],\n",
              "        [0.        ],\n",
              "        [0.        ],\n",
              "        [0.        ],\n",
              "        [0.        ],\n",
              "        [0.        ],\n",
              "        [0.        ],\n",
              "        [0.        ],\n",
              "        [0.        ],\n",
              "        [0.        ],\n",
              "        [0.        ],\n",
              "        [0.        ],\n",
              "        [0.        ],\n",
              "        [0.        ]],\n",
              "\n",
              "       [[0.        ],\n",
              "        [0.        ],\n",
              "        [0.        ],\n",
              "        [0.        ],\n",
              "        [0.        ],\n",
              "        [0.        ],\n",
              "        [0.        ],\n",
              "        [0.        ],\n",
              "        [0.        ],\n",
              "        [0.        ],\n",
              "        [0.        ],\n",
              "        [0.        ],\n",
              "        [0.01176471],\n",
              "        [0.07058824],\n",
              "        [0.07058824],\n",
              "        [0.07058824],\n",
              "        [0.49411765],\n",
              "        [0.53333336],\n",
              "        [0.6862745 ],\n",
              "        [0.10196079],\n",
              "        [0.6509804 ],\n",
              "        [1.        ],\n",
              "        [0.96862745],\n",
              "        [0.49803922],\n",
              "        [0.        ],\n",
              "        [0.        ],\n",
              "        [0.        ],\n",
              "        [0.        ]],\n",
              "\n",
              "       [[0.        ],\n",
              "        [0.        ],\n",
              "        [0.        ],\n",
              "        [0.        ],\n",
              "        [0.        ],\n",
              "        [0.        ],\n",
              "        [0.        ],\n",
              "        [0.        ],\n",
              "        [0.11764706],\n",
              "        [0.14117648],\n",
              "        [0.36862746],\n",
              "        [0.6039216 ],\n",
              "        [0.6666667 ],\n",
              "        [0.99215686],\n",
              "        [0.99215686],\n",
              "        [0.99215686],\n",
              "        [0.99215686],\n",
              "        [0.99215686],\n",
              "        [0.88235295],\n",
              "        [0.6745098 ],\n",
              "        [0.99215686],\n",
              "        [0.9490196 ],\n",
              "        [0.7647059 ],\n",
              "        [0.2509804 ],\n",
              "        [0.        ],\n",
              "        [0.        ],\n",
              "        [0.        ],\n",
              "        [0.        ]],\n",
              "\n",
              "       [[0.        ],\n",
              "        [0.        ],\n",
              "        [0.        ],\n",
              "        [0.        ],\n",
              "        [0.        ],\n",
              "        [0.        ],\n",
              "        [0.        ],\n",
              "        [0.19215687],\n",
              "        [0.93333334],\n",
              "        [0.99215686],\n",
              "        [0.99215686],\n",
              "        [0.99215686],\n",
              "        [0.99215686],\n",
              "        [0.99215686],\n",
              "        [0.99215686],\n",
              "        [0.99215686],\n",
              "        [0.99215686],\n",
              "        [0.9843137 ],\n",
              "        [0.3647059 ],\n",
              "        [0.32156864],\n",
              "        [0.32156864],\n",
              "        [0.21960784],\n",
              "        [0.15294118],\n",
              "        [0.        ],\n",
              "        [0.        ],\n",
              "        [0.        ],\n",
              "        [0.        ],\n",
              "        [0.        ]],\n",
              "\n",
              "       [[0.        ],\n",
              "        [0.        ],\n",
              "        [0.        ],\n",
              "        [0.        ],\n",
              "        [0.        ],\n",
              "        [0.        ],\n",
              "        [0.        ],\n",
              "        [0.07058824],\n",
              "        [0.85882354],\n",
              "        [0.99215686],\n",
              "        [0.99215686],\n",
              "        [0.99215686],\n",
              "        [0.99215686],\n",
              "        [0.99215686],\n",
              "        [0.7764706 ],\n",
              "        [0.7137255 ],\n",
              "        [0.96862745],\n",
              "        [0.94509804],\n",
              "        [0.        ],\n",
              "        [0.        ],\n",
              "        [0.        ],\n",
              "        [0.        ],\n",
              "        [0.        ],\n",
              "        [0.        ],\n",
              "        [0.        ],\n",
              "        [0.        ],\n",
              "        [0.        ],\n",
              "        [0.        ]],\n",
              "\n",
              "       [[0.        ],\n",
              "        [0.        ],\n",
              "        [0.        ],\n",
              "        [0.        ],\n",
              "        [0.        ],\n",
              "        [0.        ],\n",
              "        [0.        ],\n",
              "        [0.        ],\n",
              "        [0.3137255 ],\n",
              "        [0.6117647 ],\n",
              "        [0.41960785],\n",
              "        [0.99215686],\n",
              "        [0.99215686],\n",
              "        [0.8039216 ],\n",
              "        [0.04313726],\n",
              "        [0.        ],\n",
              "        [0.16862746],\n",
              "        [0.6039216 ],\n",
              "        [0.        ],\n",
              "        [0.        ],\n",
              "        [0.        ],\n",
              "        [0.        ],\n",
              "        [0.        ],\n",
              "        [0.        ],\n",
              "        [0.        ],\n",
              "        [0.        ],\n",
              "        [0.        ],\n",
              "        [0.        ]],\n",
              "\n",
              "       [[0.        ],\n",
              "        [0.        ],\n",
              "        [0.        ],\n",
              "        [0.        ],\n",
              "        [0.        ],\n",
              "        [0.        ],\n",
              "        [0.        ],\n",
              "        [0.        ],\n",
              "        [0.        ],\n",
              "        [0.05490196],\n",
              "        [0.00392157],\n",
              "        [0.6039216 ],\n",
              "        [0.99215686],\n",
              "        [0.3529412 ],\n",
              "        [0.        ],\n",
              "        [0.        ],\n",
              "        [0.        ],\n",
              "        [0.        ],\n",
              "        [0.        ],\n",
              "        [0.        ],\n",
              "        [0.        ],\n",
              "        [0.        ],\n",
              "        [0.        ],\n",
              "        [0.        ],\n",
              "        [0.        ],\n",
              "        [0.        ],\n",
              "        [0.        ],\n",
              "        [0.        ]],\n",
              "\n",
              "       [[0.        ],\n",
              "        [0.        ],\n",
              "        [0.        ],\n",
              "        [0.        ],\n",
              "        [0.        ],\n",
              "        [0.        ],\n",
              "        [0.        ],\n",
              "        [0.        ],\n",
              "        [0.        ],\n",
              "        [0.        ],\n",
              "        [0.        ],\n",
              "        [0.54509807],\n",
              "        [0.99215686],\n",
              "        [0.74509805],\n",
              "        [0.00784314],\n",
              "        [0.        ],\n",
              "        [0.        ],\n",
              "        [0.        ],\n",
              "        [0.        ],\n",
              "        [0.        ],\n",
              "        [0.        ],\n",
              "        [0.        ],\n",
              "        [0.        ],\n",
              "        [0.        ],\n",
              "        [0.        ],\n",
              "        [0.        ],\n",
              "        [0.        ],\n",
              "        [0.        ]],\n",
              "\n",
              "       [[0.        ],\n",
              "        [0.        ],\n",
              "        [0.        ],\n",
              "        [0.        ],\n",
              "        [0.        ],\n",
              "        [0.        ],\n",
              "        [0.        ],\n",
              "        [0.        ],\n",
              "        [0.        ],\n",
              "        [0.        ],\n",
              "        [0.        ],\n",
              "        [0.04313726],\n",
              "        [0.74509805],\n",
              "        [0.99215686],\n",
              "        [0.27450982],\n",
              "        [0.        ],\n",
              "        [0.        ],\n",
              "        [0.        ],\n",
              "        [0.        ],\n",
              "        [0.        ],\n",
              "        [0.        ],\n",
              "        [0.        ],\n",
              "        [0.        ],\n",
              "        [0.        ],\n",
              "        [0.        ],\n",
              "        [0.        ],\n",
              "        [0.        ],\n",
              "        [0.        ]],\n",
              "\n",
              "       [[0.        ],\n",
              "        [0.        ],\n",
              "        [0.        ],\n",
              "        [0.        ],\n",
              "        [0.        ],\n",
              "        [0.        ],\n",
              "        [0.        ],\n",
              "        [0.        ],\n",
              "        [0.        ],\n",
              "        [0.        ],\n",
              "        [0.        ],\n",
              "        [0.        ],\n",
              "        [0.13725491],\n",
              "        [0.94509804],\n",
              "        [0.88235295],\n",
              "        [0.627451  ],\n",
              "        [0.42352942],\n",
              "        [0.00392157],\n",
              "        [0.        ],\n",
              "        [0.        ],\n",
              "        [0.        ],\n",
              "        [0.        ],\n",
              "        [0.        ],\n",
              "        [0.        ],\n",
              "        [0.        ],\n",
              "        [0.        ],\n",
              "        [0.        ],\n",
              "        [0.        ]],\n",
              "\n",
              "       [[0.        ],\n",
              "        [0.        ],\n",
              "        [0.        ],\n",
              "        [0.        ],\n",
              "        [0.        ],\n",
              "        [0.        ],\n",
              "        [0.        ],\n",
              "        [0.        ],\n",
              "        [0.        ],\n",
              "        [0.        ],\n",
              "        [0.        ],\n",
              "        [0.        ],\n",
              "        [0.        ],\n",
              "        [0.31764707],\n",
              "        [0.9411765 ],\n",
              "        [0.99215686],\n",
              "        [0.99215686],\n",
              "        [0.46666667],\n",
              "        [0.09803922],\n",
              "        [0.        ],\n",
              "        [0.        ],\n",
              "        [0.        ],\n",
              "        [0.        ],\n",
              "        [0.        ],\n",
              "        [0.        ],\n",
              "        [0.        ],\n",
              "        [0.        ],\n",
              "        [0.        ]],\n",
              "\n",
              "       [[0.        ],\n",
              "        [0.        ],\n",
              "        [0.        ],\n",
              "        [0.        ],\n",
              "        [0.        ],\n",
              "        [0.        ],\n",
              "        [0.        ],\n",
              "        [0.        ],\n",
              "        [0.        ],\n",
              "        [0.        ],\n",
              "        [0.        ],\n",
              "        [0.        ],\n",
              "        [0.        ],\n",
              "        [0.        ],\n",
              "        [0.1764706 ],\n",
              "        [0.7294118 ],\n",
              "        [0.99215686],\n",
              "        [0.99215686],\n",
              "        [0.5882353 ],\n",
              "        [0.10588235],\n",
              "        [0.        ],\n",
              "        [0.        ],\n",
              "        [0.        ],\n",
              "        [0.        ],\n",
              "        [0.        ],\n",
              "        [0.        ],\n",
              "        [0.        ],\n",
              "        [0.        ]],\n",
              "\n",
              "       [[0.        ],\n",
              "        [0.        ],\n",
              "        [0.        ],\n",
              "        [0.        ],\n",
              "        [0.        ],\n",
              "        [0.        ],\n",
              "        [0.        ],\n",
              "        [0.        ],\n",
              "        [0.        ],\n",
              "        [0.        ],\n",
              "        [0.        ],\n",
              "        [0.        ],\n",
              "        [0.        ],\n",
              "        [0.        ],\n",
              "        [0.        ],\n",
              "        [0.0627451 ],\n",
              "        [0.3647059 ],\n",
              "        [0.9882353 ],\n",
              "        [0.99215686],\n",
              "        [0.73333335],\n",
              "        [0.        ],\n",
              "        [0.        ],\n",
              "        [0.        ],\n",
              "        [0.        ],\n",
              "        [0.        ],\n",
              "        [0.        ],\n",
              "        [0.        ],\n",
              "        [0.        ]],\n",
              "\n",
              "       [[0.        ],\n",
              "        [0.        ],\n",
              "        [0.        ],\n",
              "        [0.        ],\n",
              "        [0.        ],\n",
              "        [0.        ],\n",
              "        [0.        ],\n",
              "        [0.        ],\n",
              "        [0.        ],\n",
              "        [0.        ],\n",
              "        [0.        ],\n",
              "        [0.        ],\n",
              "        [0.        ],\n",
              "        [0.        ],\n",
              "        [0.        ],\n",
              "        [0.        ],\n",
              "        [0.        ],\n",
              "        [0.9764706 ],\n",
              "        [0.99215686],\n",
              "        [0.9764706 ],\n",
              "        [0.2509804 ],\n",
              "        [0.        ],\n",
              "        [0.        ],\n",
              "        [0.        ],\n",
              "        [0.        ],\n",
              "        [0.        ],\n",
              "        [0.        ],\n",
              "        [0.        ]],\n",
              "\n",
              "       [[0.        ],\n",
              "        [0.        ],\n",
              "        [0.        ],\n",
              "        [0.        ],\n",
              "        [0.        ],\n",
              "        [0.        ],\n",
              "        [0.        ],\n",
              "        [0.        ],\n",
              "        [0.        ],\n",
              "        [0.        ],\n",
              "        [0.        ],\n",
              "        [0.        ],\n",
              "        [0.        ],\n",
              "        [0.        ],\n",
              "        [0.18039216],\n",
              "        [0.50980395],\n",
              "        [0.7176471 ],\n",
              "        [0.99215686],\n",
              "        [0.99215686],\n",
              "        [0.8117647 ],\n",
              "        [0.00784314],\n",
              "        [0.        ],\n",
              "        [0.        ],\n",
              "        [0.        ],\n",
              "        [0.        ],\n",
              "        [0.        ],\n",
              "        [0.        ],\n",
              "        [0.        ]],\n",
              "\n",
              "       [[0.        ],\n",
              "        [0.        ],\n",
              "        [0.        ],\n",
              "        [0.        ],\n",
              "        [0.        ],\n",
              "        [0.        ],\n",
              "        [0.        ],\n",
              "        [0.        ],\n",
              "        [0.        ],\n",
              "        [0.        ],\n",
              "        [0.        ],\n",
              "        [0.        ],\n",
              "        [0.15294118],\n",
              "        [0.5803922 ],\n",
              "        [0.8980392 ],\n",
              "        [0.99215686],\n",
              "        [0.99215686],\n",
              "        [0.99215686],\n",
              "        [0.98039216],\n",
              "        [0.7137255 ],\n",
              "        [0.        ],\n",
              "        [0.        ],\n",
              "        [0.        ],\n",
              "        [0.        ],\n",
              "        [0.        ],\n",
              "        [0.        ],\n",
              "        [0.        ],\n",
              "        [0.        ]],\n",
              "\n",
              "       [[0.        ],\n",
              "        [0.        ],\n",
              "        [0.        ],\n",
              "        [0.        ],\n",
              "        [0.        ],\n",
              "        [0.        ],\n",
              "        [0.        ],\n",
              "        [0.        ],\n",
              "        [0.        ],\n",
              "        [0.        ],\n",
              "        [0.09411765],\n",
              "        [0.44705883],\n",
              "        [0.8666667 ],\n",
              "        [0.99215686],\n",
              "        [0.99215686],\n",
              "        [0.99215686],\n",
              "        [0.99215686],\n",
              "        [0.7882353 ],\n",
              "        [0.30588236],\n",
              "        [0.        ],\n",
              "        [0.        ],\n",
              "        [0.        ],\n",
              "        [0.        ],\n",
              "        [0.        ],\n",
              "        [0.        ],\n",
              "        [0.        ],\n",
              "        [0.        ],\n",
              "        [0.        ]],\n",
              "\n",
              "       [[0.        ],\n",
              "        [0.        ],\n",
              "        [0.        ],\n",
              "        [0.        ],\n",
              "        [0.        ],\n",
              "        [0.        ],\n",
              "        [0.        ],\n",
              "        [0.        ],\n",
              "        [0.09019608],\n",
              "        [0.25882354],\n",
              "        [0.8352941 ],\n",
              "        [0.99215686],\n",
              "        [0.99215686],\n",
              "        [0.99215686],\n",
              "        [0.99215686],\n",
              "        [0.7764706 ],\n",
              "        [0.31764707],\n",
              "        [0.00784314],\n",
              "        [0.        ],\n",
              "        [0.        ],\n",
              "        [0.        ],\n",
              "        [0.        ],\n",
              "        [0.        ],\n",
              "        [0.        ],\n",
              "        [0.        ],\n",
              "        [0.        ],\n",
              "        [0.        ],\n",
              "        [0.        ]],\n",
              "\n",
              "       [[0.        ],\n",
              "        [0.        ],\n",
              "        [0.        ],\n",
              "        [0.        ],\n",
              "        [0.        ],\n",
              "        [0.        ],\n",
              "        [0.07058824],\n",
              "        [0.67058825],\n",
              "        [0.85882354],\n",
              "        [0.99215686],\n",
              "        [0.99215686],\n",
              "        [0.99215686],\n",
              "        [0.99215686],\n",
              "        [0.7647059 ],\n",
              "        [0.3137255 ],\n",
              "        [0.03529412],\n",
              "        [0.        ],\n",
              "        [0.        ],\n",
              "        [0.        ],\n",
              "        [0.        ],\n",
              "        [0.        ],\n",
              "        [0.        ],\n",
              "        [0.        ],\n",
              "        [0.        ],\n",
              "        [0.        ],\n",
              "        [0.        ],\n",
              "        [0.        ],\n",
              "        [0.        ]],\n",
              "\n",
              "       [[0.        ],\n",
              "        [0.        ],\n",
              "        [0.        ],\n",
              "        [0.        ],\n",
              "        [0.21568628],\n",
              "        [0.6745098 ],\n",
              "        [0.8862745 ],\n",
              "        [0.99215686],\n",
              "        [0.99215686],\n",
              "        [0.99215686],\n",
              "        [0.99215686],\n",
              "        [0.95686275],\n",
              "        [0.52156866],\n",
              "        [0.04313726],\n",
              "        [0.        ],\n",
              "        [0.        ],\n",
              "        [0.        ],\n",
              "        [0.        ],\n",
              "        [0.        ],\n",
              "        [0.        ],\n",
              "        [0.        ],\n",
              "        [0.        ],\n",
              "        [0.        ],\n",
              "        [0.        ],\n",
              "        [0.        ],\n",
              "        [0.        ],\n",
              "        [0.        ],\n",
              "        [0.        ]],\n",
              "\n",
              "       [[0.        ],\n",
              "        [0.        ],\n",
              "        [0.        ],\n",
              "        [0.        ],\n",
              "        [0.53333336],\n",
              "        [0.99215686],\n",
              "        [0.99215686],\n",
              "        [0.99215686],\n",
              "        [0.83137256],\n",
              "        [0.5294118 ],\n",
              "        [0.5176471 ],\n",
              "        [0.0627451 ],\n",
              "        [0.        ],\n",
              "        [0.        ],\n",
              "        [0.        ],\n",
              "        [0.        ],\n",
              "        [0.        ],\n",
              "        [0.        ],\n",
              "        [0.        ],\n",
              "        [0.        ],\n",
              "        [0.        ],\n",
              "        [0.        ],\n",
              "        [0.        ],\n",
              "        [0.        ],\n",
              "        [0.        ],\n",
              "        [0.        ],\n",
              "        [0.        ],\n",
              "        [0.        ]],\n",
              "\n",
              "       [[0.        ],\n",
              "        [0.        ],\n",
              "        [0.        ],\n",
              "        [0.        ],\n",
              "        [0.        ],\n",
              "        [0.        ],\n",
              "        [0.        ],\n",
              "        [0.        ],\n",
              "        [0.        ],\n",
              "        [0.        ],\n",
              "        [0.        ],\n",
              "        [0.        ],\n",
              "        [0.        ],\n",
              "        [0.        ],\n",
              "        [0.        ],\n",
              "        [0.        ],\n",
              "        [0.        ],\n",
              "        [0.        ],\n",
              "        [0.        ],\n",
              "        [0.        ],\n",
              "        [0.        ],\n",
              "        [0.        ],\n",
              "        [0.        ],\n",
              "        [0.        ],\n",
              "        [0.        ],\n",
              "        [0.        ],\n",
              "        [0.        ],\n",
              "        [0.        ]],\n",
              "\n",
              "       [[0.        ],\n",
              "        [0.        ],\n",
              "        [0.        ],\n",
              "        [0.        ],\n",
              "        [0.        ],\n",
              "        [0.        ],\n",
              "        [0.        ],\n",
              "        [0.        ],\n",
              "        [0.        ],\n",
              "        [0.        ],\n",
              "        [0.        ],\n",
              "        [0.        ],\n",
              "        [0.        ],\n",
              "        [0.        ],\n",
              "        [0.        ],\n",
              "        [0.        ],\n",
              "        [0.        ],\n",
              "        [0.        ],\n",
              "        [0.        ],\n",
              "        [0.        ],\n",
              "        [0.        ],\n",
              "        [0.        ],\n",
              "        [0.        ],\n",
              "        [0.        ],\n",
              "        [0.        ],\n",
              "        [0.        ],\n",
              "        [0.        ],\n",
              "        [0.        ]],\n",
              "\n",
              "       [[0.        ],\n",
              "        [0.        ],\n",
              "        [0.        ],\n",
              "        [0.        ],\n",
              "        [0.        ],\n",
              "        [0.        ],\n",
              "        [0.        ],\n",
              "        [0.        ],\n",
              "        [0.        ],\n",
              "        [0.        ],\n",
              "        [0.        ],\n",
              "        [0.        ],\n",
              "        [0.        ],\n",
              "        [0.        ],\n",
              "        [0.        ],\n",
              "        [0.        ],\n",
              "        [0.        ],\n",
              "        [0.        ],\n",
              "        [0.        ],\n",
              "        [0.        ],\n",
              "        [0.        ],\n",
              "        [0.        ],\n",
              "        [0.        ],\n",
              "        [0.        ],\n",
              "        [0.        ],\n",
              "        [0.        ],\n",
              "        [0.        ],\n",
              "        [0.        ]]], dtype=float32)"
            ]
          },
          "metadata": {},
          "execution_count": 15
        }
      ]
    },
    {
      "cell_type": "code",
      "metadata": {
        "id": "55537f80"
      },
      "source": [
        "X_train = X_train.astype('float32')\n",
        "X_test = X_test.astype('float32')\n",
        "\n",
        "X_train /= 255\n",
        "X_test /= 255"
      ],
      "id": "55537f80",
      "execution_count": null,
      "outputs": []
    },
    {
      "cell_type": "code",
      "metadata": {
        "colab": {
          "base_uri": "https://localhost:8080/"
        },
        "id": "75753c52",
        "outputId": "cc6bac75-3e74-48af-ef15-32c8ec252bf7"
      },
      "source": [
        "X_train[0]"
      ],
      "id": "75753c52",
      "execution_count": null,
      "outputs": [
        {
          "output_type": "execute_result",
          "data": {
            "text/plain": [
              "array([[[0.0000000e+00],\n",
              "        [0.0000000e+00],\n",
              "        [0.0000000e+00],\n",
              "        [0.0000000e+00],\n",
              "        [0.0000000e+00],\n",
              "        [0.0000000e+00],\n",
              "        [0.0000000e+00],\n",
              "        [0.0000000e+00],\n",
              "        [0.0000000e+00],\n",
              "        [0.0000000e+00],\n",
              "        [0.0000000e+00],\n",
              "        [0.0000000e+00],\n",
              "        [0.0000000e+00],\n",
              "        [0.0000000e+00],\n",
              "        [0.0000000e+00],\n",
              "        [0.0000000e+00],\n",
              "        [0.0000000e+00],\n",
              "        [0.0000000e+00],\n",
              "        [0.0000000e+00],\n",
              "        [0.0000000e+00],\n",
              "        [0.0000000e+00],\n",
              "        [0.0000000e+00],\n",
              "        [0.0000000e+00],\n",
              "        [0.0000000e+00],\n",
              "        [0.0000000e+00],\n",
              "        [0.0000000e+00],\n",
              "        [0.0000000e+00],\n",
              "        [0.0000000e+00]],\n",
              "\n",
              "       [[0.0000000e+00],\n",
              "        [0.0000000e+00],\n",
              "        [0.0000000e+00],\n",
              "        [0.0000000e+00],\n",
              "        [0.0000000e+00],\n",
              "        [0.0000000e+00],\n",
              "        [0.0000000e+00],\n",
              "        [0.0000000e+00],\n",
              "        [0.0000000e+00],\n",
              "        [0.0000000e+00],\n",
              "        [0.0000000e+00],\n",
              "        [0.0000000e+00],\n",
              "        [0.0000000e+00],\n",
              "        [0.0000000e+00],\n",
              "        [0.0000000e+00],\n",
              "        [0.0000000e+00],\n",
              "        [0.0000000e+00],\n",
              "        [0.0000000e+00],\n",
              "        [0.0000000e+00],\n",
              "        [0.0000000e+00],\n",
              "        [0.0000000e+00],\n",
              "        [0.0000000e+00],\n",
              "        [0.0000000e+00],\n",
              "        [0.0000000e+00],\n",
              "        [0.0000000e+00],\n",
              "        [0.0000000e+00],\n",
              "        [0.0000000e+00],\n",
              "        [0.0000000e+00]],\n",
              "\n",
              "       [[0.0000000e+00],\n",
              "        [0.0000000e+00],\n",
              "        [0.0000000e+00],\n",
              "        [0.0000000e+00],\n",
              "        [0.0000000e+00],\n",
              "        [0.0000000e+00],\n",
              "        [0.0000000e+00],\n",
              "        [0.0000000e+00],\n",
              "        [0.0000000e+00],\n",
              "        [0.0000000e+00],\n",
              "        [0.0000000e+00],\n",
              "        [0.0000000e+00],\n",
              "        [0.0000000e+00],\n",
              "        [0.0000000e+00],\n",
              "        [0.0000000e+00],\n",
              "        [0.0000000e+00],\n",
              "        [0.0000000e+00],\n",
              "        [0.0000000e+00],\n",
              "        [0.0000000e+00],\n",
              "        [0.0000000e+00],\n",
              "        [0.0000000e+00],\n",
              "        [0.0000000e+00],\n",
              "        [0.0000000e+00],\n",
              "        [0.0000000e+00],\n",
              "        [0.0000000e+00],\n",
              "        [0.0000000e+00],\n",
              "        [0.0000000e+00],\n",
              "        [0.0000000e+00]],\n",
              "\n",
              "       [[0.0000000e+00],\n",
              "        [0.0000000e+00],\n",
              "        [0.0000000e+00],\n",
              "        [0.0000000e+00],\n",
              "        [0.0000000e+00],\n",
              "        [0.0000000e+00],\n",
              "        [0.0000000e+00],\n",
              "        [0.0000000e+00],\n",
              "        [0.0000000e+00],\n",
              "        [0.0000000e+00],\n",
              "        [0.0000000e+00],\n",
              "        [0.0000000e+00],\n",
              "        [0.0000000e+00],\n",
              "        [0.0000000e+00],\n",
              "        [0.0000000e+00],\n",
              "        [0.0000000e+00],\n",
              "        [0.0000000e+00],\n",
              "        [0.0000000e+00],\n",
              "        [0.0000000e+00],\n",
              "        [0.0000000e+00],\n",
              "        [0.0000000e+00],\n",
              "        [0.0000000e+00],\n",
              "        [0.0000000e+00],\n",
              "        [0.0000000e+00],\n",
              "        [0.0000000e+00],\n",
              "        [0.0000000e+00],\n",
              "        [0.0000000e+00],\n",
              "        [0.0000000e+00]],\n",
              "\n",
              "       [[0.0000000e+00],\n",
              "        [0.0000000e+00],\n",
              "        [0.0000000e+00],\n",
              "        [0.0000000e+00],\n",
              "        [0.0000000e+00],\n",
              "        [0.0000000e+00],\n",
              "        [0.0000000e+00],\n",
              "        [0.0000000e+00],\n",
              "        [0.0000000e+00],\n",
              "        [0.0000000e+00],\n",
              "        [0.0000000e+00],\n",
              "        [0.0000000e+00],\n",
              "        [0.0000000e+00],\n",
              "        [0.0000000e+00],\n",
              "        [0.0000000e+00],\n",
              "        [0.0000000e+00],\n",
              "        [0.0000000e+00],\n",
              "        [0.0000000e+00],\n",
              "        [0.0000000e+00],\n",
              "        [0.0000000e+00],\n",
              "        [0.0000000e+00],\n",
              "        [0.0000000e+00],\n",
              "        [0.0000000e+00],\n",
              "        [0.0000000e+00],\n",
              "        [0.0000000e+00],\n",
              "        [0.0000000e+00],\n",
              "        [0.0000000e+00],\n",
              "        [0.0000000e+00]],\n",
              "\n",
              "       [[0.0000000e+00],\n",
              "        [0.0000000e+00],\n",
              "        [0.0000000e+00],\n",
              "        [0.0000000e+00],\n",
              "        [0.0000000e+00],\n",
              "        [0.0000000e+00],\n",
              "        [0.0000000e+00],\n",
              "        [0.0000000e+00],\n",
              "        [0.0000000e+00],\n",
              "        [0.0000000e+00],\n",
              "        [0.0000000e+00],\n",
              "        [0.0000000e+00],\n",
              "        [4.6136101e-05],\n",
              "        [2.7681663e-04],\n",
              "        [2.7681663e-04],\n",
              "        [2.7681663e-04],\n",
              "        [1.9377163e-03],\n",
              "        [2.0915035e-03],\n",
              "        [2.6912726e-03],\n",
              "        [3.9984621e-04],\n",
              "        [2.5528644e-03],\n",
              "        [3.9215689e-03],\n",
              "        [3.7985391e-03],\n",
              "        [1.9530950e-03],\n",
              "        [0.0000000e+00],\n",
              "        [0.0000000e+00],\n",
              "        [0.0000000e+00],\n",
              "        [0.0000000e+00]],\n",
              "\n",
              "       [[0.0000000e+00],\n",
              "        [0.0000000e+00],\n",
              "        [0.0000000e+00],\n",
              "        [0.0000000e+00],\n",
              "        [0.0000000e+00],\n",
              "        [0.0000000e+00],\n",
              "        [0.0000000e+00],\n",
              "        [0.0000000e+00],\n",
              "        [4.6136102e-04],\n",
              "        [5.5363326e-04],\n",
              "        [1.4455979e-03],\n",
              "        [2.3683200e-03],\n",
              "        [2.6143792e-03],\n",
              "        [3.8908112e-03],\n",
              "        [3.8908112e-03],\n",
              "        [3.8908112e-03],\n",
              "        [3.8908112e-03],\n",
              "        [3.8908112e-03],\n",
              "        [3.4602077e-03],\n",
              "        [2.6451366e-03],\n",
              "        [3.8908112e-03],\n",
              "        [3.7216456e-03],\n",
              "        [2.9988466e-03],\n",
              "        [9.8423695e-04],\n",
              "        [0.0000000e+00],\n",
              "        [0.0000000e+00],\n",
              "        [0.0000000e+00],\n",
              "        [0.0000000e+00]],\n",
              "\n",
              "       [[0.0000000e+00],\n",
              "        [0.0000000e+00],\n",
              "        [0.0000000e+00],\n",
              "        [0.0000000e+00],\n",
              "        [0.0000000e+00],\n",
              "        [0.0000000e+00],\n",
              "        [0.0000000e+00],\n",
              "        [7.5355632e-04],\n",
              "        [3.6601308e-03],\n",
              "        [3.8908112e-03],\n",
              "        [3.8908112e-03],\n",
              "        [3.8908112e-03],\n",
              "        [3.8908112e-03],\n",
              "        [3.8908112e-03],\n",
              "        [3.8908112e-03],\n",
              "        [3.8908112e-03],\n",
              "        [3.8908112e-03],\n",
              "        [3.8600538e-03],\n",
              "        [1.4302192e-03],\n",
              "        [1.2610535e-03],\n",
              "        [1.2610535e-03],\n",
              "        [8.6120726e-04],\n",
              "        [5.9976935e-04],\n",
              "        [0.0000000e+00],\n",
              "        [0.0000000e+00],\n",
              "        [0.0000000e+00],\n",
              "        [0.0000000e+00],\n",
              "        [0.0000000e+00]],\n",
              "\n",
              "       [[0.0000000e+00],\n",
              "        [0.0000000e+00],\n",
              "        [0.0000000e+00],\n",
              "        [0.0000000e+00],\n",
              "        [0.0000000e+00],\n",
              "        [0.0000000e+00],\n",
              "        [0.0000000e+00],\n",
              "        [2.7681663e-04],\n",
              "        [3.3679355e-03],\n",
              "        [3.8908112e-03],\n",
              "        [3.8908112e-03],\n",
              "        [3.8908112e-03],\n",
              "        [3.8908112e-03],\n",
              "        [3.8908112e-03],\n",
              "        [3.0449827e-03],\n",
              "        [2.7989235e-03],\n",
              "        [3.7985391e-03],\n",
              "        [3.7062669e-03],\n",
              "        [0.0000000e+00],\n",
              "        [0.0000000e+00],\n",
              "        [0.0000000e+00],\n",
              "        [0.0000000e+00],\n",
              "        [0.0000000e+00],\n",
              "        [0.0000000e+00],\n",
              "        [0.0000000e+00],\n",
              "        [0.0000000e+00],\n",
              "        [0.0000000e+00],\n",
              "        [0.0000000e+00]],\n",
              "\n",
              "       [[0.0000000e+00],\n",
              "        [0.0000000e+00],\n",
              "        [0.0000000e+00],\n",
              "        [0.0000000e+00],\n",
              "        [0.0000000e+00],\n",
              "        [0.0000000e+00],\n",
              "        [0.0000000e+00],\n",
              "        [0.0000000e+00],\n",
              "        [1.2302961e-03],\n",
              "        [2.3990774e-03],\n",
              "        [1.6455210e-03],\n",
              "        [3.8908112e-03],\n",
              "        [3.8908112e-03],\n",
              "        [3.1526336e-03],\n",
              "        [1.6916571e-04],\n",
              "        [0.0000000e+00],\n",
              "        [6.6128414e-04],\n",
              "        [2.3683200e-03],\n",
              "        [0.0000000e+00],\n",
              "        [0.0000000e+00],\n",
              "        [0.0000000e+00],\n",
              "        [0.0000000e+00],\n",
              "        [0.0000000e+00],\n",
              "        [0.0000000e+00],\n",
              "        [0.0000000e+00],\n",
              "        [0.0000000e+00],\n",
              "        [0.0000000e+00],\n",
              "        [0.0000000e+00]],\n",
              "\n",
              "       [[0.0000000e+00],\n",
              "        [0.0000000e+00],\n",
              "        [0.0000000e+00],\n",
              "        [0.0000000e+00],\n",
              "        [0.0000000e+00],\n",
              "        [0.0000000e+00],\n",
              "        [0.0000000e+00],\n",
              "        [0.0000000e+00],\n",
              "        [0.0000000e+00],\n",
              "        [2.1530181e-04],\n",
              "        [1.5378702e-05],\n",
              "        [2.3683200e-03],\n",
              "        [3.8908112e-03],\n",
              "        [1.3840831e-03],\n",
              "        [0.0000000e+00],\n",
              "        [0.0000000e+00],\n",
              "        [0.0000000e+00],\n",
              "        [0.0000000e+00],\n",
              "        [0.0000000e+00],\n",
              "        [0.0000000e+00],\n",
              "        [0.0000000e+00],\n",
              "        [0.0000000e+00],\n",
              "        [0.0000000e+00],\n",
              "        [0.0000000e+00],\n",
              "        [0.0000000e+00],\n",
              "        [0.0000000e+00],\n",
              "        [0.0000000e+00],\n",
              "        [0.0000000e+00]],\n",
              "\n",
              "       [[0.0000000e+00],\n",
              "        [0.0000000e+00],\n",
              "        [0.0000000e+00],\n",
              "        [0.0000000e+00],\n",
              "        [0.0000000e+00],\n",
              "        [0.0000000e+00],\n",
              "        [0.0000000e+00],\n",
              "        [0.0000000e+00],\n",
              "        [0.0000000e+00],\n",
              "        [0.0000000e+00],\n",
              "        [0.0000000e+00],\n",
              "        [2.1376396e-03],\n",
              "        [3.8908112e-03],\n",
              "        [2.9219531e-03],\n",
              "        [3.0757405e-05],\n",
              "        [0.0000000e+00],\n",
              "        [0.0000000e+00],\n",
              "        [0.0000000e+00],\n",
              "        [0.0000000e+00],\n",
              "        [0.0000000e+00],\n",
              "        [0.0000000e+00],\n",
              "        [0.0000000e+00],\n",
              "        [0.0000000e+00],\n",
              "        [0.0000000e+00],\n",
              "        [0.0000000e+00],\n",
              "        [0.0000000e+00],\n",
              "        [0.0000000e+00],\n",
              "        [0.0000000e+00]],\n",
              "\n",
              "       [[0.0000000e+00],\n",
              "        [0.0000000e+00],\n",
              "        [0.0000000e+00],\n",
              "        [0.0000000e+00],\n",
              "        [0.0000000e+00],\n",
              "        [0.0000000e+00],\n",
              "        [0.0000000e+00],\n",
              "        [0.0000000e+00],\n",
              "        [0.0000000e+00],\n",
              "        [0.0000000e+00],\n",
              "        [0.0000000e+00],\n",
              "        [1.6916571e-04],\n",
              "        [2.9219531e-03],\n",
              "        [3.8908112e-03],\n",
              "        [1.0765091e-03],\n",
              "        [0.0000000e+00],\n",
              "        [0.0000000e+00],\n",
              "        [0.0000000e+00],\n",
              "        [0.0000000e+00],\n",
              "        [0.0000000e+00],\n",
              "        [0.0000000e+00],\n",
              "        [0.0000000e+00],\n",
              "        [0.0000000e+00],\n",
              "        [0.0000000e+00],\n",
              "        [0.0000000e+00],\n",
              "        [0.0000000e+00],\n",
              "        [0.0000000e+00],\n",
              "        [0.0000000e+00]],\n",
              "\n",
              "       [[0.0000000e+00],\n",
              "        [0.0000000e+00],\n",
              "        [0.0000000e+00],\n",
              "        [0.0000000e+00],\n",
              "        [0.0000000e+00],\n",
              "        [0.0000000e+00],\n",
              "        [0.0000000e+00],\n",
              "        [0.0000000e+00],\n",
              "        [0.0000000e+00],\n",
              "        [0.0000000e+00],\n",
              "        [0.0000000e+00],\n",
              "        [0.0000000e+00],\n",
              "        [5.3825456e-04],\n",
              "        [3.7062669e-03],\n",
              "        [3.4602077e-03],\n",
              "        [2.4605922e-03],\n",
              "        [1.6608997e-03],\n",
              "        [1.5378702e-05],\n",
              "        [0.0000000e+00],\n",
              "        [0.0000000e+00],\n",
              "        [0.0000000e+00],\n",
              "        [0.0000000e+00],\n",
              "        [0.0000000e+00],\n",
              "        [0.0000000e+00],\n",
              "        [0.0000000e+00],\n",
              "        [0.0000000e+00],\n",
              "        [0.0000000e+00],\n",
              "        [0.0000000e+00]],\n",
              "\n",
              "       [[0.0000000e+00],\n",
              "        [0.0000000e+00],\n",
              "        [0.0000000e+00],\n",
              "        [0.0000000e+00],\n",
              "        [0.0000000e+00],\n",
              "        [0.0000000e+00],\n",
              "        [0.0000000e+00],\n",
              "        [0.0000000e+00],\n",
              "        [0.0000000e+00],\n",
              "        [0.0000000e+00],\n",
              "        [0.0000000e+00],\n",
              "        [0.0000000e+00],\n",
              "        [0.0000000e+00],\n",
              "        [1.2456748e-03],\n",
              "        [3.6908882e-03],\n",
              "        [3.8908112e-03],\n",
              "        [3.8908112e-03],\n",
              "        [1.8300654e-03],\n",
              "        [3.8446751e-04],\n",
              "        [0.0000000e+00],\n",
              "        [0.0000000e+00],\n",
              "        [0.0000000e+00],\n",
              "        [0.0000000e+00],\n",
              "        [0.0000000e+00],\n",
              "        [0.0000000e+00],\n",
              "        [0.0000000e+00],\n",
              "        [0.0000000e+00],\n",
              "        [0.0000000e+00]],\n",
              "\n",
              "       [[0.0000000e+00],\n",
              "        [0.0000000e+00],\n",
              "        [0.0000000e+00],\n",
              "        [0.0000000e+00],\n",
              "        [0.0000000e+00],\n",
              "        [0.0000000e+00],\n",
              "        [0.0000000e+00],\n",
              "        [0.0000000e+00],\n",
              "        [0.0000000e+00],\n",
              "        [0.0000000e+00],\n",
              "        [0.0000000e+00],\n",
              "        [0.0000000e+00],\n",
              "        [0.0000000e+00],\n",
              "        [0.0000000e+00],\n",
              "        [6.9204153e-04],\n",
              "        [2.8604383e-03],\n",
              "        [3.8908112e-03],\n",
              "        [3.8908112e-03],\n",
              "        [2.3068052e-03],\n",
              "        [4.1522493e-04],\n",
              "        [0.0000000e+00],\n",
              "        [0.0000000e+00],\n",
              "        [0.0000000e+00],\n",
              "        [0.0000000e+00],\n",
              "        [0.0000000e+00],\n",
              "        [0.0000000e+00],\n",
              "        [0.0000000e+00],\n",
              "        [0.0000000e+00]],\n",
              "\n",
              "       [[0.0000000e+00],\n",
              "        [0.0000000e+00],\n",
              "        [0.0000000e+00],\n",
              "        [0.0000000e+00],\n",
              "        [0.0000000e+00],\n",
              "        [0.0000000e+00],\n",
              "        [0.0000000e+00],\n",
              "        [0.0000000e+00],\n",
              "        [0.0000000e+00],\n",
              "        [0.0000000e+00],\n",
              "        [0.0000000e+00],\n",
              "        [0.0000000e+00],\n",
              "        [0.0000000e+00],\n",
              "        [0.0000000e+00],\n",
              "        [0.0000000e+00],\n",
              "        [2.4605924e-04],\n",
              "        [1.4302192e-03],\n",
              "        [3.8754325e-03],\n",
              "        [3.8908112e-03],\n",
              "        [2.8758170e-03],\n",
              "        [0.0000000e+00],\n",
              "        [0.0000000e+00],\n",
              "        [0.0000000e+00],\n",
              "        [0.0000000e+00],\n",
              "        [0.0000000e+00],\n",
              "        [0.0000000e+00],\n",
              "        [0.0000000e+00],\n",
              "        [0.0000000e+00]],\n",
              "\n",
              "       [[0.0000000e+00],\n",
              "        [0.0000000e+00],\n",
              "        [0.0000000e+00],\n",
              "        [0.0000000e+00],\n",
              "        [0.0000000e+00],\n",
              "        [0.0000000e+00],\n",
              "        [0.0000000e+00],\n",
              "        [0.0000000e+00],\n",
              "        [0.0000000e+00],\n",
              "        [0.0000000e+00],\n",
              "        [0.0000000e+00],\n",
              "        [0.0000000e+00],\n",
              "        [0.0000000e+00],\n",
              "        [0.0000000e+00],\n",
              "        [0.0000000e+00],\n",
              "        [0.0000000e+00],\n",
              "        [0.0000000e+00],\n",
              "        [3.8292964e-03],\n",
              "        [3.8908112e-03],\n",
              "        [3.8292964e-03],\n",
              "        [9.8423695e-04],\n",
              "        [0.0000000e+00],\n",
              "        [0.0000000e+00],\n",
              "        [0.0000000e+00],\n",
              "        [0.0000000e+00],\n",
              "        [0.0000000e+00],\n",
              "        [0.0000000e+00],\n",
              "        [0.0000000e+00]],\n",
              "\n",
              "       [[0.0000000e+00],\n",
              "        [0.0000000e+00],\n",
              "        [0.0000000e+00],\n",
              "        [0.0000000e+00],\n",
              "        [0.0000000e+00],\n",
              "        [0.0000000e+00],\n",
              "        [0.0000000e+00],\n",
              "        [0.0000000e+00],\n",
              "        [0.0000000e+00],\n",
              "        [0.0000000e+00],\n",
              "        [0.0000000e+00],\n",
              "        [0.0000000e+00],\n",
              "        [0.0000000e+00],\n",
              "        [0.0000000e+00],\n",
              "        [7.0742023e-04],\n",
              "        [1.9992313e-03],\n",
              "        [2.8143022e-03],\n",
              "        [3.8908112e-03],\n",
              "        [3.8908112e-03],\n",
              "        [3.1833909e-03],\n",
              "        [3.0757405e-05],\n",
              "        [0.0000000e+00],\n",
              "        [0.0000000e+00],\n",
              "        [0.0000000e+00],\n",
              "        [0.0000000e+00],\n",
              "        [0.0000000e+00],\n",
              "        [0.0000000e+00],\n",
              "        [0.0000000e+00]],\n",
              "\n",
              "       [[0.0000000e+00],\n",
              "        [0.0000000e+00],\n",
              "        [0.0000000e+00],\n",
              "        [0.0000000e+00],\n",
              "        [0.0000000e+00],\n",
              "        [0.0000000e+00],\n",
              "        [0.0000000e+00],\n",
              "        [0.0000000e+00],\n",
              "        [0.0000000e+00],\n",
              "        [0.0000000e+00],\n",
              "        [0.0000000e+00],\n",
              "        [0.0000000e+00],\n",
              "        [5.9976935e-04],\n",
              "        [2.2760478e-03],\n",
              "        [3.5217225e-03],\n",
              "        [3.8908112e-03],\n",
              "        [3.8908112e-03],\n",
              "        [3.8908112e-03],\n",
              "        [3.8446751e-03],\n",
              "        [2.7989235e-03],\n",
              "        [0.0000000e+00],\n",
              "        [0.0000000e+00],\n",
              "        [0.0000000e+00],\n",
              "        [0.0000000e+00],\n",
              "        [0.0000000e+00],\n",
              "        [0.0000000e+00],\n",
              "        [0.0000000e+00],\n",
              "        [0.0000000e+00]],\n",
              "\n",
              "       [[0.0000000e+00],\n",
              "        [0.0000000e+00],\n",
              "        [0.0000000e+00],\n",
              "        [0.0000000e+00],\n",
              "        [0.0000000e+00],\n",
              "        [0.0000000e+00],\n",
              "        [0.0000000e+00],\n",
              "        [0.0000000e+00],\n",
              "        [0.0000000e+00],\n",
              "        [0.0000000e+00],\n",
              "        [3.6908881e-04],\n",
              "        [1.7531719e-03],\n",
              "        [3.3986929e-03],\n",
              "        [3.8908112e-03],\n",
              "        [3.8908112e-03],\n",
              "        [3.8908112e-03],\n",
              "        [3.8908112e-03],\n",
              "        [3.0911188e-03],\n",
              "        [1.1995387e-03],\n",
              "        [0.0000000e+00],\n",
              "        [0.0000000e+00],\n",
              "        [0.0000000e+00],\n",
              "        [0.0000000e+00],\n",
              "        [0.0000000e+00],\n",
              "        [0.0000000e+00],\n",
              "        [0.0000000e+00],\n",
              "        [0.0000000e+00],\n",
              "        [0.0000000e+00]],\n",
              "\n",
              "       [[0.0000000e+00],\n",
              "        [0.0000000e+00],\n",
              "        [0.0000000e+00],\n",
              "        [0.0000000e+00],\n",
              "        [0.0000000e+00],\n",
              "        [0.0000000e+00],\n",
              "        [0.0000000e+00],\n",
              "        [0.0000000e+00],\n",
              "        [3.5371011e-04],\n",
              "        [1.0149943e-03],\n",
              "        [3.2756634e-03],\n",
              "        [3.8908112e-03],\n",
              "        [3.8908112e-03],\n",
              "        [3.8908112e-03],\n",
              "        [3.8908112e-03],\n",
              "        [3.0449827e-03],\n",
              "        [1.2456748e-03],\n",
              "        [3.0757405e-05],\n",
              "        [0.0000000e+00],\n",
              "        [0.0000000e+00],\n",
              "        [0.0000000e+00],\n",
              "        [0.0000000e+00],\n",
              "        [0.0000000e+00],\n",
              "        [0.0000000e+00],\n",
              "        [0.0000000e+00],\n",
              "        [0.0000000e+00],\n",
              "        [0.0000000e+00],\n",
              "        [0.0000000e+00]],\n",
              "\n",
              "       [[0.0000000e+00],\n",
              "        [0.0000000e+00],\n",
              "        [0.0000000e+00],\n",
              "        [0.0000000e+00],\n",
              "        [0.0000000e+00],\n",
              "        [0.0000000e+00],\n",
              "        [2.7681663e-04],\n",
              "        [2.6297579e-03],\n",
              "        [3.3679355e-03],\n",
              "        [3.8908112e-03],\n",
              "        [3.8908112e-03],\n",
              "        [3.8908112e-03],\n",
              "        [3.8908112e-03],\n",
              "        [2.9988466e-03],\n",
              "        [1.2302961e-03],\n",
              "        [1.3840832e-04],\n",
              "        [0.0000000e+00],\n",
              "        [0.0000000e+00],\n",
              "        [0.0000000e+00],\n",
              "        [0.0000000e+00],\n",
              "        [0.0000000e+00],\n",
              "        [0.0000000e+00],\n",
              "        [0.0000000e+00],\n",
              "        [0.0000000e+00],\n",
              "        [0.0000000e+00],\n",
              "        [0.0000000e+00],\n",
              "        [0.0000000e+00],\n",
              "        [0.0000000e+00]],\n",
              "\n",
              "       [[0.0000000e+00],\n",
              "        [0.0000000e+00],\n",
              "        [0.0000000e+00],\n",
              "        [0.0000000e+00],\n",
              "        [8.4582856e-04],\n",
              "        [2.6451366e-03],\n",
              "        [3.4755864e-03],\n",
              "        [3.8908112e-03],\n",
              "        [3.8908112e-03],\n",
              "        [3.8908112e-03],\n",
              "        [3.8908112e-03],\n",
              "        [3.7524030e-03],\n",
              "        [2.0453674e-03],\n",
              "        [1.6916571e-04],\n",
              "        [0.0000000e+00],\n",
              "        [0.0000000e+00],\n",
              "        [0.0000000e+00],\n",
              "        [0.0000000e+00],\n",
              "        [0.0000000e+00],\n",
              "        [0.0000000e+00],\n",
              "        [0.0000000e+00],\n",
              "        [0.0000000e+00],\n",
              "        [0.0000000e+00],\n",
              "        [0.0000000e+00],\n",
              "        [0.0000000e+00],\n",
              "        [0.0000000e+00],\n",
              "        [0.0000000e+00],\n",
              "        [0.0000000e+00]],\n",
              "\n",
              "       [[0.0000000e+00],\n",
              "        [0.0000000e+00],\n",
              "        [0.0000000e+00],\n",
              "        [0.0000000e+00],\n",
              "        [2.0915035e-03],\n",
              "        [3.8908112e-03],\n",
              "        [3.8908112e-03],\n",
              "        [3.8908112e-03],\n",
              "        [3.2602844e-03],\n",
              "        [2.0761248e-03],\n",
              "        [2.0299887e-03],\n",
              "        [2.4605924e-04],\n",
              "        [0.0000000e+00],\n",
              "        [0.0000000e+00],\n",
              "        [0.0000000e+00],\n",
              "        [0.0000000e+00],\n",
              "        [0.0000000e+00],\n",
              "        [0.0000000e+00],\n",
              "        [0.0000000e+00],\n",
              "        [0.0000000e+00],\n",
              "        [0.0000000e+00],\n",
              "        [0.0000000e+00],\n",
              "        [0.0000000e+00],\n",
              "        [0.0000000e+00],\n",
              "        [0.0000000e+00],\n",
              "        [0.0000000e+00],\n",
              "        [0.0000000e+00],\n",
              "        [0.0000000e+00]],\n",
              "\n",
              "       [[0.0000000e+00],\n",
              "        [0.0000000e+00],\n",
              "        [0.0000000e+00],\n",
              "        [0.0000000e+00],\n",
              "        [0.0000000e+00],\n",
              "        [0.0000000e+00],\n",
              "        [0.0000000e+00],\n",
              "        [0.0000000e+00],\n",
              "        [0.0000000e+00],\n",
              "        [0.0000000e+00],\n",
              "        [0.0000000e+00],\n",
              "        [0.0000000e+00],\n",
              "        [0.0000000e+00],\n",
              "        [0.0000000e+00],\n",
              "        [0.0000000e+00],\n",
              "        [0.0000000e+00],\n",
              "        [0.0000000e+00],\n",
              "        [0.0000000e+00],\n",
              "        [0.0000000e+00],\n",
              "        [0.0000000e+00],\n",
              "        [0.0000000e+00],\n",
              "        [0.0000000e+00],\n",
              "        [0.0000000e+00],\n",
              "        [0.0000000e+00],\n",
              "        [0.0000000e+00],\n",
              "        [0.0000000e+00],\n",
              "        [0.0000000e+00],\n",
              "        [0.0000000e+00]],\n",
              "\n",
              "       [[0.0000000e+00],\n",
              "        [0.0000000e+00],\n",
              "        [0.0000000e+00],\n",
              "        [0.0000000e+00],\n",
              "        [0.0000000e+00],\n",
              "        [0.0000000e+00],\n",
              "        [0.0000000e+00],\n",
              "        [0.0000000e+00],\n",
              "        [0.0000000e+00],\n",
              "        [0.0000000e+00],\n",
              "        [0.0000000e+00],\n",
              "        [0.0000000e+00],\n",
              "        [0.0000000e+00],\n",
              "        [0.0000000e+00],\n",
              "        [0.0000000e+00],\n",
              "        [0.0000000e+00],\n",
              "        [0.0000000e+00],\n",
              "        [0.0000000e+00],\n",
              "        [0.0000000e+00],\n",
              "        [0.0000000e+00],\n",
              "        [0.0000000e+00],\n",
              "        [0.0000000e+00],\n",
              "        [0.0000000e+00],\n",
              "        [0.0000000e+00],\n",
              "        [0.0000000e+00],\n",
              "        [0.0000000e+00],\n",
              "        [0.0000000e+00],\n",
              "        [0.0000000e+00]],\n",
              "\n",
              "       [[0.0000000e+00],\n",
              "        [0.0000000e+00],\n",
              "        [0.0000000e+00],\n",
              "        [0.0000000e+00],\n",
              "        [0.0000000e+00],\n",
              "        [0.0000000e+00],\n",
              "        [0.0000000e+00],\n",
              "        [0.0000000e+00],\n",
              "        [0.0000000e+00],\n",
              "        [0.0000000e+00],\n",
              "        [0.0000000e+00],\n",
              "        [0.0000000e+00],\n",
              "        [0.0000000e+00],\n",
              "        [0.0000000e+00],\n",
              "        [0.0000000e+00],\n",
              "        [0.0000000e+00],\n",
              "        [0.0000000e+00],\n",
              "        [0.0000000e+00],\n",
              "        [0.0000000e+00],\n",
              "        [0.0000000e+00],\n",
              "        [0.0000000e+00],\n",
              "        [0.0000000e+00],\n",
              "        [0.0000000e+00],\n",
              "        [0.0000000e+00],\n",
              "        [0.0000000e+00],\n",
              "        [0.0000000e+00],\n",
              "        [0.0000000e+00],\n",
              "        [0.0000000e+00]]], dtype=float32)"
            ]
          },
          "metadata": {},
          "execution_count": 17
        }
      ]
    },
    {
      "cell_type": "markdown",
      "metadata": {
        "id": "91f45cbe"
      },
      "source": [
        "### Model Creation:"
      ],
      "id": "91f45cbe"
    },
    {
      "cell_type": "markdown",
      "metadata": {
        "id": "f5b07ede"
      },
      "source": [
        "Now we will create our CNN model.\n",
        "A CNN model generally consists of convolutional and pooling layers. It works better for data that are represented as grid structures, this is the reason why CNN works well for image classification problems."
      ],
      "id": "f5b07ede"
    },
    {
      "cell_type": "code",
      "metadata": {
        "id": "39c16888"
      },
      "source": [
        "model = Sequential()\n",
        "\n",
        "model.add(Conv2D(32, kernel_size=(3, 3),activation='relu',input_shape=input_shape))\n",
        "model.add(Conv2D(64, (3, 3), activation='relu'))\n",
        "model.add(MaxPool2D(pool_size=(2, 2)))\n",
        "model.add(Dropout(0.25))\n",
        "model.add(Flatten())\n",
        "\n",
        "model.add(Dense(256, activation='relu'))\n",
        "model.add(Dropout(0.25))\n",
        "model.add(Dense(10, activation='softmax'))\n",
        "\n",
        "model.compile(loss='categorical_crossentropy',optimizer='adam', metrics=['accuracy'])"
      ],
      "id": "39c16888",
      "execution_count": null,
      "outputs": []
    },
    {
      "cell_type": "markdown",
      "metadata": {
        "id": "ba312e7c"
      },
      "source": [
        "### Model Summary:"
      ],
      "id": "ba312e7c"
    },
    {
      "cell_type": "code",
      "metadata": {
        "colab": {
          "base_uri": "https://localhost:8080/"
        },
        "id": "4a55a8c7",
        "outputId": "f97a8c6f-97ad-432e-cc60-3a891c4859eb"
      },
      "source": [
        "model.summary()"
      ],
      "id": "4a55a8c7",
      "execution_count": null,
      "outputs": [
        {
          "output_type": "stream",
          "name": "stdout",
          "text": [
            "Model: \"sequential\"\n",
            "_________________________________________________________________\n",
            "Layer (type)                 Output Shape              Param #   \n",
            "=================================================================\n",
            "conv2d (Conv2D)              (None, 26, 26, 32)        320       \n",
            "_________________________________________________________________\n",
            "conv2d_1 (Conv2D)            (None, 24, 24, 64)        18496     \n",
            "_________________________________________________________________\n",
            "max_pooling2d (MaxPooling2D) (None, 12, 12, 64)        0         \n",
            "_________________________________________________________________\n",
            "dropout (Dropout)            (None, 12, 12, 64)        0         \n",
            "_________________________________________________________________\n",
            "flatten (Flatten)            (None, 9216)              0         \n",
            "_________________________________________________________________\n",
            "dense (Dense)                (None, 256)               2359552   \n",
            "_________________________________________________________________\n",
            "dropout_1 (Dropout)          (None, 256)               0         \n",
            "_________________________________________________________________\n",
            "dense_1 (Dense)              (None, 10)                2570      \n",
            "=================================================================\n",
            "Total params: 2,380,938\n",
            "Trainable params: 2,380,938\n",
            "Non-trainable params: 0\n",
            "_________________________________________________________________\n"
          ]
        }
      ]
    },
    {
      "cell_type": "markdown",
      "metadata": {
        "id": "a385620d"
      },
      "source": [
        "### Adding Early Stopping:"
      ],
      "id": "a385620d"
    },
    {
      "cell_type": "code",
      "metadata": {
        "id": "48444874"
      },
      "source": [
        "early_stop = EarlyStopping(monitor='val_loss', patience=2)"
      ],
      "id": "48444874",
      "execution_count": null,
      "outputs": []
    },
    {
      "cell_type": "markdown",
      "metadata": {
        "id": "e44739b3"
      },
      "source": [
        "### Model Training:"
      ],
      "id": "e44739b3"
    },
    {
      "cell_type": "code",
      "metadata": {
        "colab": {
          "base_uri": "https://localhost:8080/"
        },
        "id": "c025119c",
        "outputId": "7306b344-3761-4f18-f559-369a71157db7"
      },
      "source": [
        "model.fit(X_train, y_cat_train, epochs=2, callbacks = [early_stop], validation_data=(X_test, y_cat_test))\n",
        "\n",
        "print(\"The model has successfully trained\")\n",
        "model.save('mnist.h5')\n",
        "print(\"Saving the model as mnist.h5\")"
      ],
      "id": "c025119c",
      "execution_count": null,
      "outputs": [
        {
          "output_type": "stream",
          "name": "stdout",
          "text": [
            "Epoch 1/2\n",
            "1875/1875 [==============================] - 157s 84ms/step - loss: 0.2626 - accuracy: 0.9193 - val_loss: 0.1452 - val_accuracy: 0.9545\n",
            "Epoch 2/2\n",
            "1875/1875 [==============================] - 156s 83ms/step - loss: 0.1720 - accuracy: 0.9462 - val_loss: 0.1166 - val_accuracy: 0.9630\n",
            "The model has successfully trained\n",
            "Saving the model as mnist.h5\n"
          ]
        }
      ]
    },
    {
      "cell_type": "markdown",
      "metadata": {
        "id": "fb3fbd0f"
      },
      "source": [
        "### Model Performance during training & validation:"
      ],
      "id": "fb3fbd0f"
    },
    {
      "cell_type": "code",
      "metadata": {
        "colab": {
          "base_uri": "https://localhost:8080/"
        },
        "id": "194200e7",
        "outputId": "05631d96-8a96-4177-8e9d-5abe4bbb4f83"
      },
      "source": [
        "training_metrics = pd.DataFrame(model.history.history)\n",
        "training_metrics.columns"
      ],
      "id": "194200e7",
      "execution_count": null,
      "outputs": [
        {
          "output_type": "execute_result",
          "data": {
            "text/plain": [
              "Index(['loss', 'accuracy', 'val_loss', 'val_accuracy'], dtype='object')"
            ]
          },
          "metadata": {},
          "execution_count": 23
        }
      ]
    },
    {
      "cell_type": "code",
      "metadata": {
        "colab": {
          "base_uri": "https://localhost:8080/",
          "height": 111
        },
        "id": "7b9e4aef",
        "outputId": "1f2598f0-813a-4e89-f0ed-2b4733721d1f"
      },
      "source": [
        "training_metrics.head()"
      ],
      "id": "7b9e4aef",
      "execution_count": null,
      "outputs": [
        {
          "output_type": "execute_result",
          "data": {
            "text/html": [
              "<div>\n",
              "<style scoped>\n",
              "    .dataframe tbody tr th:only-of-type {\n",
              "        vertical-align: middle;\n",
              "    }\n",
              "\n",
              "    .dataframe tbody tr th {\n",
              "        vertical-align: top;\n",
              "    }\n",
              "\n",
              "    .dataframe thead th {\n",
              "        text-align: right;\n",
              "    }\n",
              "</style>\n",
              "<table border=\"1\" class=\"dataframe\">\n",
              "  <thead>\n",
              "    <tr style=\"text-align: right;\">\n",
              "      <th></th>\n",
              "      <th>loss</th>\n",
              "      <th>accuracy</th>\n",
              "      <th>val_loss</th>\n",
              "      <th>val_accuracy</th>\n",
              "    </tr>\n",
              "  </thead>\n",
              "  <tbody>\n",
              "    <tr>\n",
              "      <th>0</th>\n",
              "      <td>0.262561</td>\n",
              "      <td>0.919317</td>\n",
              "      <td>0.145196</td>\n",
              "      <td>0.9545</td>\n",
              "    </tr>\n",
              "    <tr>\n",
              "      <th>1</th>\n",
              "      <td>0.172009</td>\n",
              "      <td>0.946217</td>\n",
              "      <td>0.116647</td>\n",
              "      <td>0.9630</td>\n",
              "    </tr>\n",
              "  </tbody>\n",
              "</table>\n",
              "</div>"
            ],
            "text/plain": [
              "       loss  accuracy  val_loss  val_accuracy\n",
              "0  0.262561  0.919317  0.145196        0.9545\n",
              "1  0.172009  0.946217  0.116647        0.9630"
            ]
          },
          "metadata": {},
          "execution_count": 24
        }
      ]
    },
    {
      "cell_type": "code",
      "metadata": {
        "colab": {
          "base_uri": "https://localhost:8080/",
          "height": 282
        },
        "id": "95402ab1",
        "outputId": "5488824c-512d-4512-9e3b-2b7af0256aa9"
      },
      "source": [
        "training_metrics[['loss','val_loss']].plot()"
      ],
      "id": "95402ab1",
      "execution_count": null,
      "outputs": [
        {
          "output_type": "execute_result",
          "data": {
            "text/plain": [
              "<matplotlib.axes._subplots.AxesSubplot at 0x7f31df93c7d0>"
            ]
          },
          "metadata": {},
          "execution_count": 25
        },
        {
          "output_type": "display_data",
          "data": {
            "image/png": "[encoded data removed]",
            "text/plain": [
              "<Figure size 432x288 with 1 Axes>"
            ]
          },
          "metadata": {
            "needs_background": "light"
          }
        }
      ]
    },
    {
      "cell_type": "code",
      "metadata": {
        "colab": {
          "base_uri": "https://localhost:8080/",
          "height": 282
        },
        "id": "35ad40c1",
        "outputId": "48cc1ba4-7b82-4960-8dad-cb47a31c020c"
      },
      "source": [
        "training_metrics[['accuracy','val_accuracy']].plot()"
      ],
      "id": "35ad40c1",
      "execution_count": null,
      "outputs": [
        {
          "output_type": "execute_result",
          "data": {
            "text/plain": [
              "<matplotlib.axes._subplots.AxesSubplot at 0x7f31d8d67250>"
            ]
          },
          "metadata": {},
          "execution_count": 26
        },
        {
          "output_type": "display_data",
          "data": {
            "image/png": "[encoded data removed]",
            "text/plain": [
              "<Figure size 432x288 with 1 Axes>"
            ]
          },
          "metadata": {
            "needs_background": "light"
          }
        }
      ]
    },
    {
      "cell_type": "code",
      "metadata": {
        "colab": {
          "base_uri": "https://localhost:8080/"
        },
        "id": "66abd8ab",
        "outputId": "c3155a2c-28af-41c9-8ec9-16833656c0d1"
      },
      "source": [
        "score = model.evaluate(X_test, y_cat_test, verbose=0)\n",
        "print('Test loss:', score[0])\n",
        "print('Test accuracy:', score[1])"
      ],
      "id": "66abd8ab",
      "execution_count": null,
      "outputs": [
        {
          "output_type": "stream",
          "name": "stdout",
          "text": [
            "Test loss: 0.11664677411317825\n",
            "Test accuracy: 0.9629999995231628\n"
          ]
        }
      ]
    },
    {
      "cell_type": "markdown",
      "metadata": {
        "id": "a665080d"
      },
      "source": [
        "### Model Predictions:"
      ],
      "id": "a665080d"
    },
    {
      "cell_type": "code",
      "metadata": {
        "id": "617ad06d"
      },
      "source": [
        "predictions = np.argmax(model.predict(X_test), axis=-1)"
      ],
      "id": "617ad06d",
      "execution_count": null,
      "outputs": []
    },
    {
      "cell_type": "code",
      "metadata": {
        "colab": {
          "base_uri": "https://localhost:8080/"
        },
        "id": "d1408d27",
        "outputId": "8e0e81c6-07c9-4bce-ca48-231fa12c31e5"
      },
      "source": [
        "print(classification_report(y_test, predictions))"
      ],
      "id": "d1408d27",
      "execution_count": null,
      "outputs": [
        {
          "output_type": "stream",
          "name": "stdout",
          "text": [
            "              precision    recall  f1-score   support\n",
            "\n",
            "           0       0.96      0.99      0.98       980\n",
            "           1       0.99      0.98      0.98      1135\n",
            "           2       0.96      0.97      0.96      1032\n",
            "           3       0.98      0.94      0.96      1010\n",
            "           4       0.97      0.96      0.97       982\n",
            "           5       0.94      0.97      0.96       892\n",
            "           6       0.96      0.98      0.97       958\n",
            "           7       0.94      0.97      0.96      1028\n",
            "           8       0.95      0.95      0.95       974\n",
            "           9       0.97      0.92      0.94      1009\n",
            "\n",
            "    accuracy                           0.96     10000\n",
            "   macro avg       0.96      0.96      0.96     10000\n",
            "weighted avg       0.96      0.96      0.96     10000\n",
            "\n"
          ]
        }
      ]
    },
    {
      "cell_type": "code",
      "metadata": {
        "id": "d8f43f28",
        "outputId": "db830f3c-0799-435a-dd48-a7ba60828ff5"
      },
      "source": [
        "print(confusion_matrix(y_test, predictions))"
      ],
      "id": "d8f43f28",
      "execution_count": null,
      "outputs": [
        {
          "name": "stdout",
          "output_type": "stream",
          "text": [
            "[[ 973    0    2    1    0    0    4    0    0    0]\n",
            " [   0 1124    1    3    0    1    4    1    1    0]\n",
            " [   0    0 1019    5    0    0    0    4    3    1]\n",
            " [   0    0    0 1008    0    1    0    0    1    0]\n",
            " [   0    0    1    0  955    0    5    1    3   17]\n",
            " [   0    0    1    7    0  883    1    0    0    0]\n",
            " [   6    1    0    0    1    1  949    0    0    0]\n",
            " [   1    0    5    2    0    0    0 1017    1    2]\n",
            " [   3    0    1    1    0    1    0    1  965    2]\n",
            " [   1    0    2    1    1   11    0    4    5  984]]\n"
          ]
        }
      ]
    },
    {
      "cell_type": "markdown",
      "metadata": {
        "id": "e8bcc6a6"
      },
      "source": [
        "### Visualizing confusion matrix:"
      ],
      "id": "e8bcc6a6"
    },
    {
      "cell_type": "code",
      "metadata": {
        "colab": {
          "base_uri": "https://localhost:8080/",
          "height": 375
        },
        "id": "87cbbdbf",
        "outputId": "5d597824-218a-476e-a5b7-498847191361"
      },
      "source": [
        "plt.figure(figsize=(15,7))\n",
        "sns.heatmap(confusion_matrix(y_test, predictions),annot=True)"
      ],
      "id": "87cbbdbf",
      "execution_count": null,
      "outputs": [
        {
          "output_type": "execute_result",
          "data": {
            "text/plain": [
              "<matplotlib.axes._subplots.AxesSubplot at 0x7f31d887da90>"
            ]
          },
          "metadata": {},
          "execution_count": 30
        },
        {
          "output_type": "display_data",
          "data": {
            "image/png": "[encoded data removed]",
            "text/plain": [
              "<Figure size 1080x504 with 2 Axes>"
            ]
          },
          "metadata": {
            "needs_background": "light"
          }
        }
      ]
    },
    {
      "cell_type": "markdown",
      "metadata": {
        "id": "8f3973b1"
      },
      "source": [
        "### Predicting individual images:"
      ],
      "id": "8f3973b1"
    },
    {
      "cell_type": "code",
      "metadata": {
        "colab": {
          "base_uri": "https://localhost:8080/",
          "height": 578
        },
        "id": "acc406f0",
        "outputId": "91d5256b-bb52-4a2b-ede0-f81ee479ce46"
      },
      "source": [
        "new_img = X_test[95]\n",
        "plt.imshow(new_img)"
      ],
      "id": "acc406f0",
      "execution_count": null,
      "outputs": [
        {
          "output_type": "error",
          "ename": "TypeError",
          "evalue": "ignored",
          "traceback": [
            "\u001b[0;31m---------------------------------------------------------------------------\u001b[0m",
            "\u001b[0;31mTypeError\u001b[0m                                 Traceback (most recent call last)",
            "\u001b[0;32m<ipython-input-31-20bfb38ba547>\u001b[0m in \u001b[0;36m<module>\u001b[0;34m()\u001b[0m\n\u001b[1;32m      1\u001b[0m \u001b[0mnew_img\u001b[0m \u001b[0;34m=\u001b[0m \u001b[0mX_test\u001b[0m\u001b[0;34m[\u001b[0m\u001b[0;36m95\u001b[0m\u001b[0;34m]\u001b[0m\u001b[0;34m\u001b[0m\u001b[0;34m\u001b[0m\u001b[0m\n\u001b[0;32m----> 2\u001b[0;31m \u001b[0mplt\u001b[0m\u001b[0;34m.\u001b[0m\u001b[0mimshow\u001b[0m\u001b[0;34m(\u001b[0m\u001b[0mnew_img\u001b[0m\u001b[0;34m)\u001b[0m\u001b[0;34m\u001b[0m\u001b[0;34m\u001b[0m\u001b[0m\n\u001b[0m",
            "\u001b[0;32m/usr/local/lib/python3.7/dist-packages/matplotlib/pyplot.py\u001b[0m in \u001b[0;36mimshow\u001b[0;34m(X, cmap, norm, aspect, interpolation, alpha, vmin, vmax, origin, extent, shape, filternorm, filterrad, imlim, resample, url, data, **kwargs)\u001b[0m\n\u001b[1;32m   2649\u001b[0m         \u001b[0mfilternorm\u001b[0m\u001b[0;34m=\u001b[0m\u001b[0mfilternorm\u001b[0m\u001b[0;34m,\u001b[0m \u001b[0mfilterrad\u001b[0m\u001b[0;34m=\u001b[0m\u001b[0mfilterrad\u001b[0m\u001b[0;34m,\u001b[0m \u001b[0mimlim\u001b[0m\u001b[0;34m=\u001b[0m\u001b[0mimlim\u001b[0m\u001b[0;34m,\u001b[0m\u001b[0;34m\u001b[0m\u001b[0;34m\u001b[0m\u001b[0m\n\u001b[1;32m   2650\u001b[0m         resample=resample, url=url, **({\"data\": data} if data is not\n\u001b[0;32m-> 2651\u001b[0;31m         None else {}), **kwargs)\n\u001b[0m\u001b[1;32m   2652\u001b[0m     \u001b[0msci\u001b[0m\u001b[0;34m(\u001b[0m\u001b[0m__ret\u001b[0m\u001b[0;34m)\u001b[0m\u001b[0;34m\u001b[0m\u001b[0;34m\u001b[0m\u001b[0m\n\u001b[1;32m   2653\u001b[0m     \u001b[0;32mreturn\u001b[0m \u001b[0m__ret\u001b[0m\u001b[0;34m\u001b[0m\u001b[0;34m\u001b[0m\u001b[0m\n",
            "\u001b[0;32m/usr/local/lib/python3.7/dist-packages/matplotlib/__init__.py\u001b[0m in \u001b[0;36minner\u001b[0;34m(ax, data, *args, **kwargs)\u001b[0m\n\u001b[1;32m   1563\u001b[0m     \u001b[0;32mdef\u001b[0m \u001b[0minner\u001b[0m\u001b[0;34m(\u001b[0m\u001b[0max\u001b[0m\u001b[0;34m,\u001b[0m \u001b[0;34m*\u001b[0m\u001b[0margs\u001b[0m\u001b[0;34m,\u001b[0m \u001b[0mdata\u001b[0m\u001b[0;34m=\u001b[0m\u001b[0;32mNone\u001b[0m\u001b[0;34m,\u001b[0m \u001b[0;34m**\u001b[0m\u001b[0mkwargs\u001b[0m\u001b[0;34m)\u001b[0m\u001b[0;34m:\u001b[0m\u001b[0;34m\u001b[0m\u001b[0;34m\u001b[0m\u001b[0m\n\u001b[1;32m   1564\u001b[0m         \u001b[0;32mif\u001b[0m \u001b[0mdata\u001b[0m \u001b[0;32mis\u001b[0m \u001b[0;32mNone\u001b[0m\u001b[0;34m:\u001b[0m\u001b[0;34m\u001b[0m\u001b[0;34m\u001b[0m\u001b[0m\n\u001b[0;32m-> 1565\u001b[0;31m             \u001b[0;32mreturn\u001b[0m \u001b[0mfunc\u001b[0m\u001b[0;34m(\u001b[0m\u001b[0max\u001b[0m\u001b[0;34m,\u001b[0m \u001b[0;34m*\u001b[0m\u001b[0mmap\u001b[0m\u001b[0;34m(\u001b[0m\u001b[0msanitize_sequence\u001b[0m\u001b[0;34m,\u001b[0m \u001b[0margs\u001b[0m\u001b[0;34m)\u001b[0m\u001b[0;34m,\u001b[0m \u001b[0;34m**\u001b[0m\u001b[0mkwargs\u001b[0m\u001b[0;34m)\u001b[0m\u001b[0;34m\u001b[0m\u001b[0;34m\u001b[0m\u001b[0m\n\u001b[0m\u001b[1;32m   1566\u001b[0m \u001b[0;34m\u001b[0m\u001b[0m\n\u001b[1;32m   1567\u001b[0m         \u001b[0mbound\u001b[0m \u001b[0;34m=\u001b[0m \u001b[0mnew_sig\u001b[0m\u001b[0;34m.\u001b[0m\u001b[0mbind\u001b[0m\u001b[0;34m(\u001b[0m\u001b[0max\u001b[0m\u001b[0;34m,\u001b[0m \u001b[0;34m*\u001b[0m\u001b[0margs\u001b[0m\u001b[0;34m,\u001b[0m \u001b[0;34m**\u001b[0m\u001b[0mkwargs\u001b[0m\u001b[0;34m)\u001b[0m\u001b[0;34m\u001b[0m\u001b[0;34m\u001b[0m\u001b[0m\n",
            "\u001b[0;32m/usr/local/lib/python3.7/dist-packages/matplotlib/cbook/deprecation.py\u001b[0m in \u001b[0;36mwrapper\u001b[0;34m(*args, **kwargs)\u001b[0m\n\u001b[1;32m    356\u001b[0m                 \u001b[0;34mf\"%(removal)s.  If any parameter follows {name!r}, they \"\u001b[0m\u001b[0;34m\u001b[0m\u001b[0;34m\u001b[0m\u001b[0m\n\u001b[1;32m    357\u001b[0m                 f\"should be pass as keyword, not positionally.\")\n\u001b[0;32m--> 358\u001b[0;31m         \u001b[0;32mreturn\u001b[0m \u001b[0mfunc\u001b[0m\u001b[0;34m(\u001b[0m\u001b[0;34m*\u001b[0m\u001b[0margs\u001b[0m\u001b[0;34m,\u001b[0m \u001b[0;34m**\u001b[0m\u001b[0mkwargs\u001b[0m\u001b[0;34m)\u001b[0m\u001b[0;34m\u001b[0m\u001b[0;34m\u001b[0m\u001b[0m\n\u001b[0m\u001b[1;32m    359\u001b[0m \u001b[0;34m\u001b[0m\u001b[0m\n\u001b[1;32m    360\u001b[0m     \u001b[0;32mreturn\u001b[0m \u001b[0mwrapper\u001b[0m\u001b[0;34m\u001b[0m\u001b[0;34m\u001b[0m\u001b[0m\n",
            "\u001b[0;32m/usr/local/lib/python3.7/dist-packages/matplotlib/cbook/deprecation.py\u001b[0m in \u001b[0;36mwrapper\u001b[0;34m(*args, **kwargs)\u001b[0m\n\u001b[1;32m    356\u001b[0m                 \u001b[0;34mf\"%(removal)s.  If any parameter follows {name!r}, they \"\u001b[0m\u001b[0;34m\u001b[0m\u001b[0;34m\u001b[0m\u001b[0m\n\u001b[1;32m    357\u001b[0m                 f\"should be pass as keyword, not positionally.\")\n\u001b[0;32m--> 358\u001b[0;31m         \u001b[0;32mreturn\u001b[0m \u001b[0mfunc\u001b[0m\u001b[0;34m(\u001b[0m\u001b[0;34m*\u001b[0m\u001b[0margs\u001b[0m\u001b[0;34m,\u001b[0m \u001b[0;34m**\u001b[0m\u001b[0mkwargs\u001b[0m\u001b[0;34m)\u001b[0m\u001b[0;34m\u001b[0m\u001b[0;34m\u001b[0m\u001b[0m\n\u001b[0m\u001b[1;32m    359\u001b[0m \u001b[0;34m\u001b[0m\u001b[0m\n\u001b[1;32m    360\u001b[0m     \u001b[0;32mreturn\u001b[0m \u001b[0mwrapper\u001b[0m\u001b[0;34m\u001b[0m\u001b[0;34m\u001b[0m\u001b[0m\n",
            "\u001b[0;32m/usr/local/lib/python3.7/dist-packages/matplotlib/axes/_axes.py\u001b[0m in \u001b[0;36mimshow\u001b[0;34m(self, X, cmap, norm, aspect, interpolation, alpha, vmin, vmax, origin, extent, shape, filternorm, filterrad, imlim, resample, url, **kwargs)\u001b[0m\n\u001b[1;32m   5624\u001b[0m                               resample=resample, **kwargs)\n\u001b[1;32m   5625\u001b[0m \u001b[0;34m\u001b[0m\u001b[0m\n\u001b[0;32m-> 5626\u001b[0;31m         \u001b[0mim\u001b[0m\u001b[0;34m.\u001b[0m\u001b[0mset_data\u001b[0m\u001b[0;34m(\u001b[0m\u001b[0mX\u001b[0m\u001b[0;34m)\u001b[0m\u001b[0;34m\u001b[0m\u001b[0;34m\u001b[0m\u001b[0m\n\u001b[0m\u001b[1;32m   5627\u001b[0m         \u001b[0mim\u001b[0m\u001b[0;34m.\u001b[0m\u001b[0mset_alpha\u001b[0m\u001b[0;34m(\u001b[0m\u001b[0malpha\u001b[0m\u001b[0;34m)\u001b[0m\u001b[0;34m\u001b[0m\u001b[0;34m\u001b[0m\u001b[0m\n\u001b[1;32m   5628\u001b[0m         \u001b[0;32mif\u001b[0m \u001b[0mim\u001b[0m\u001b[0;34m.\u001b[0m\u001b[0mget_clip_path\u001b[0m\u001b[0;34m(\u001b[0m\u001b[0;34m)\u001b[0m \u001b[0;32mis\u001b[0m \u001b[0;32mNone\u001b[0m\u001b[0;34m:\u001b[0m\u001b[0;34m\u001b[0m\u001b[0;34m\u001b[0m\u001b[0m\n",
            "\u001b[0;32m/usr/local/lib/python3.7/dist-packages/matplotlib/image.py\u001b[0m in \u001b[0;36mset_data\u001b[0;34m(self, A)\u001b[0m\n\u001b[1;32m    697\u001b[0m                 or self._A.ndim == 3 and self._A.shape[-1] in [3, 4]):\n\u001b[1;32m    698\u001b[0m             raise TypeError(\"Invalid shape {} for image data\"\n\u001b[0;32m--> 699\u001b[0;31m                             .format(self._A.shape))\n\u001b[0m\u001b[1;32m    700\u001b[0m \u001b[0;34m\u001b[0m\u001b[0m\n\u001b[1;32m    701\u001b[0m         \u001b[0;32mif\u001b[0m \u001b[0mself\u001b[0m\u001b[0;34m.\u001b[0m\u001b[0m_A\u001b[0m\u001b[0;34m.\u001b[0m\u001b[0mndim\u001b[0m \u001b[0;34m==\u001b[0m \u001b[0;36m3\u001b[0m\u001b[0;34m:\u001b[0m\u001b[0;34m\u001b[0m\u001b[0;34m\u001b[0m\u001b[0m\n",
            "\u001b[0;31mTypeError\u001b[0m: Invalid shape (28, 28, 1) for image data"
          ]
        },
        {
          "output_type": "display_data",
          "data": {
            "image/png": "[encoded data removed]",
            "text/plain": [
              "<Figure size 432x288 with 1 Axes>"
            ]
          },
          "metadata": {
            "needs_background": "light"
          }
        }
      ]
    },
    {
      "cell_type": "code",
      "metadata": {
        "id": "03cbb4e0",
        "outputId": "c78f4365-3250-4315-afa4-aaf096c31b04"
      },
      "source": [
        "y_test[95]"
      ],
      "id": "03cbb4e0",
      "execution_count": null,
      "outputs": [
        {
          "data": {
            "text/plain": [
              "4"
            ]
          },
          "execution_count": 36,
          "metadata": {},
          "output_type": "execute_result"
        }
      ]
    },
    {
      "cell_type": "code",
      "metadata": {
        "id": "d5c40c61",
        "outputId": "4684d8cf-ee2d-4760-c2b4-d7c6a1a8011d"
      },
      "source": [
        "np.argmax(model.predict(new_img.reshape(1,28,28,1)), axis=-1)"
      ],
      "id": "d5c40c61",
      "execution_count": null,
      "outputs": [
        {
          "data": {
            "text/plain": [
              "array([4], dtype=int64)"
            ]
          },
          "execution_count": 38,
          "metadata": {},
          "output_type": "execute_result"
        }
      ]
    },
    {
      "cell_type": "code",
      "metadata": {
        "id": "10a99d82",
        "outputId": "831b61ba-8586-4d65-e9b7-5405a126c44f"
      },
      "source": [
        "new_img2 = X_test[0]\n",
        "plt.imshow(new_img2)"
      ],
      "id": "10a99d82",
      "execution_count": null,
      "outputs": [
        {
          "data": {
            "text/plain": [
              "<matplotlib.image.AxesImage at 0x20b5701f100>"
            ]
          },
          "execution_count": 39,
          "metadata": {},
          "output_type": "execute_result"
        },
        {
          "data": {
            "image/png": "[encoded data removed]",
            "text/plain": [
              "<Figure size 432x288 with 1 Axes>"
            ]
          },
          "metadata": {
            "needs_background": "light"
          },
          "output_type": "display_data"
        }
      ]
    },
    {
      "cell_type": "code",
      "metadata": {
        "id": "ad13f17f",
        "outputId": "572c5c92-7d72-40fb-fce3-ddba19e846a0"
      },
      "source": [
        "y_test[0]"
      ],
      "id": "ad13f17f",
      "execution_count": null,
      "outputs": [
        {
          "data": {
            "text/plain": [
              "7"
            ]
          },
          "execution_count": 40,
          "metadata": {},
          "output_type": "execute_result"
        }
      ]
    },
    {
      "cell_type": "code",
      "metadata": {
        "id": "04d48b3d",
        "outputId": "99aeac0d-263e-41d8-e15e-61c9ba08b28d"
      },
      "source": [
        "np.argmax(model.predict(new_img2.reshape(1,28,28,1)), axis=-1)"
      ],
      "id": "04d48b3d",
      "execution_count": null,
      "outputs": [
        {
          "data": {
            "text/plain": [
              "array([7], dtype=int64)"
            ]
          },
          "execution_count": 41,
          "metadata": {},
          "output_type": "execute_result"
        }
      ]
    },
    {
      "cell_type": "code",
      "metadata": {
        "id": "9ca5ce84",
        "outputId": "633f8a16-abe9-45c1-9940-e6e3e218f787"
      },
      "source": [
        "new_img3 = X_test[397]\n",
        "plt.imshow(new_img3)"
      ],
      "id": "9ca5ce84",
      "execution_count": null,
      "outputs": [
        {
          "data": {
            "text/plain": [
              "<matplotlib.image.AxesImage at 0x20b56f73f70>"
            ]
          },
          "execution_count": 42,
          "metadata": {},
          "output_type": "execute_result"
        },
        {
          "data": {
            "image/png": "[encoded data removed]",
            "text/plain": [
              "<Figure size 432x288 with 1 Axes>"
            ]
          },
          "metadata": {
            "needs_background": "light"
          },
          "output_type": "display_data"
        }
      ]
    },
    {
      "cell_type": "code",
      "metadata": {
        "id": "7e7339d5",
        "outputId": "a0b3a5ee-06ed-4b78-dbb0-74bf06b476cd"
      },
      "source": [
        "y_test[397]"
      ],
      "id": "7e7339d5",
      "execution_count": null,
      "outputs": [
        {
          "data": {
            "text/plain": [
              "5"
            ]
          },
          "execution_count": 43,
          "metadata": {},
          "output_type": "execute_result"
        }
      ]
    },
    {
      "cell_type": "code",
      "metadata": {
        "id": "dc2583b0",
        "outputId": "db0fa7f3-b904-4493-b06e-b6980a1b0ddd"
      },
      "source": [
        "np.argmax(model.predict(new_img3.reshape(1,28,28,1)), axis=-1)"
      ],
      "id": "dc2583b0",
      "execution_count": null,
      "outputs": [
        {
          "data": {
            "text/plain": [
              "array([5], dtype=int64)"
            ]
          },
          "execution_count": 44,
          "metadata": {},
          "output_type": "execute_result"
        }
      ]
    },
    {
      "cell_type": "code",
      "metadata": {
        "id": "6b363e5f"
      },
      "source": [],
      "id": "6b363e5f",
      "execution_count": null,
      "outputs": []
    }
  ]
}